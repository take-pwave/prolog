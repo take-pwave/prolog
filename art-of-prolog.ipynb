{
 "cells": [
  {
   "cell_type": "code",
   "execution_count": 1,
   "metadata": {},
   "outputs": [
    {
     "data": {
      "text/plain": [
       "% Asserting clauses for user:range/3\n"
      ]
     },
     "metadata": {},
     "output_type": "display_data"
    },
    {
     "data": {
      "text/plain": [
       "\u001b[1mNs = [1,2,3]"
      ]
     },
     "metadata": {},
     "output_type": "display_data"
    }
   ],
   "source": [
    "range(M, N, [M|Ns]) :- M < N, M1 is M + 1, range(M1, N, Ns).\n",
    "range(N, N, [N]).\n",
    "?- range(1, 3, Ns)."
   ]
  },
  {
   "cell_type": "code",
   "execution_count": 2,
   "metadata": {},
   "outputs": [
    {
     "data": {
      "text/plain": [
       "% Asserting clauses for user:queens/2\n"
      ]
     },
     "metadata": {},
     "output_type": "display_data"
    },
    {
     "data": {
      "text/plain": [
       "% Asserting clauses for user:generate/2\n"
      ]
     },
     "metadata": {},
     "output_type": "display_data"
    },
    {
     "data": {
      "text/plain": [
       "% Asserting clauses for user:safe/1\n"
      ]
     },
     "metadata": {},
     "output_type": "display_data"
    },
    {
     "data": {
      "text/plain": [
       "% Asserting clauses for user:attack/2\n"
      ]
     },
     "metadata": {},
     "output_type": "display_data"
    },
    {
     "data": {
      "text/plain": [
       "% Asserting clauses for user:attack/3\n"
      ]
     },
     "metadata": {},
     "output_type": "display_data"
    },
    {
     "data": {
      "text/plain": [
       "\u001b[1mQs = [2,4,1,3]"
      ]
     },
     "metadata": {},
     "output_type": "display_data"
    },
    {
     "data": {
      "text/plain": [
       "% Retrying goal: queens(4,Qs)\n"
      ]
     },
     "metadata": {},
     "output_type": "display_data"
    },
    {
     "data": {
      "text/plain": [
       "\u001b[1mQs = [3,1,4,2]"
      ]
     },
     "metadata": {},
     "output_type": "display_data"
    }
   ],
   "source": [
    "queens(N, Qs) :- generate(N, Qs), safe(Qs).\n",
    "generate(N, Qs) :- range(1, N, Ns), permutation(Ns, Qs).\n",
    "safe([Q|Qs]) :- safe(Qs), not(attack(Q, Qs)).\n",
    "safe([]).\n",
    "attack(X, Xs) :- attack(X, 1, Xs).\n",
    "attack(X, N, [Y|Ys]) :- X is Y + N ; X is Y - N.\n",
    "?- queens(4, Qs).\n",
    "?- retry."
   ]
  },
  {
   "cell_type": "markdown",
   "metadata": {},
   "source": [
    "## １６章　限定節文法による構文解析"
   ]
  },
  {
   "cell_type": "markdown",
   "metadata": {},
   "source": [
    "### 文脈自由文法\n",
    "16.1の文脈自由文法を定義する。\n",
    "\n",
    "終端記号はカギ括弧で括る。\n",
    "文法がさりげなく、右再帰構文になっていることに注意！\n"
   ]
  },
  {
   "cell_type": "code",
   "execution_count": 3,
   "metadata": {},
   "outputs": [
    {
     "data": {
      "text/plain": [
       "% Asserting clauses for user:sentence/2\n"
      ]
     },
     "metadata": {},
     "output_type": "display_data"
    },
    {
     "data": {
      "text/plain": [
       "% Asserting clauses for user:noun_phrase/2\n"
      ]
     },
     "metadata": {},
     "output_type": "display_data"
    },
    {
     "data": {
      "text/plain": [
       "% Asserting clauses for user:noun_phrase2/2\n"
      ]
     },
     "metadata": {},
     "output_type": "display_data"
    },
    {
     "data": {
      "text/plain": [
       "% Asserting clauses for user:verb_phrase/2\n"
      ]
     },
     "metadata": {},
     "output_type": "display_data"
    },
    {
     "data": {
      "text/plain": [
       "% Asserting clauses for user:determiner/2\n"
      ]
     },
     "metadata": {},
     "output_type": "display_data"
    },
    {
     "data": {
      "text/plain": [
       "% Asserting clauses for user:adjective/2\n"
      ]
     },
     "metadata": {},
     "output_type": "display_data"
    },
    {
     "data": {
      "text/plain": [
       "% Asserting clauses for user:noun/2\n"
      ]
     },
     "metadata": {},
     "output_type": "display_data"
    },
    {
     "data": {
      "text/plain": [
       "% Asserting clauses for user:verb/2\n"
      ]
     },
     "metadata": {},
     "output_type": "display_data"
    }
   ],
   "source": [
    "% 文法規則\n",
    "sentence --> noun_phrase, verb_phrase.\n",
    "noun_phrase --> determiner, noun_phrase2.\n",
    "noun_phrase --> noun_phrase2.\n",
    "noun_phrase2 --> adjective, noun_phrase2.\n",
    "noun_phrase2 --> noun.\n",
    "verb_phrase --> verb.\n",
    "verb_phrase --> verb, noun_phrase.\n",
    "% 語彙\n",
    "determiner --> [the].   adjective --> [decorated].\n",
    "determiner --> [a].\n",
    "noun --> [pieplate].    verb --> [surprise].\n",
    "noun --> [surprise]."
   ]
  },
  {
   "cell_type": "markdown",
   "metadata": {},
   "source": [
    "分脈自由文法は、S\\S0の差分リストを引数とする。prolog文に変換される。\n",
    "```prolog\n",
    "sentence --> noun_phrase, verb_phrase.\n",
    "```\n",
    "これをそのままprolog規則に変換すると\n",
    "```prolog\n",
    "sentence(S) :- append(NP, VP, S), noun_pharase(NP), verb_phrase(VP).\n",
    "```\n",
    "となるが、appendの処理効率がわるいため、差分リストで表すと以下の様になる。\n",
    "```prolog\n",
    "sentence(S\\S0) :- noun_phrase(S\\S1), verb_phrase(S1\\S0).\n",
    "```\n",
    "さらにAs\\Bsは、headとtailのリストに分解されるので、\n",
    "```prolog\n",
    "sentence(S, S0) :- noun_phrase(S, S1), verb_phrase(S1, S0).\n",
    "```\n",
    "となる。\n",
    "\n",
    "listing関数を使って、sentenceの変換結果を見ると、上記の変換が行われていることが確認できる。"
   ]
  },
  {
   "cell_type": "code",
   "execution_count": 4,
   "metadata": {},
   "outputs": [
    {
     "data": {
      "text/plain": [
       ":- dynamic sentence/2.\n",
       "\n",
       "sentence(A, C) :-\n",
       "    noun_phrase(A, B),\n",
       "    verb_phrase(B, C).\n"
      ]
     },
     "metadata": {},
     "output_type": "display_data"
    },
    {
     "data": {
      "text/plain": [
       "\u001b[1mtrue"
      ]
     },
     "metadata": {},
     "output_type": "display_data"
    }
   ],
   "source": [
    "?- listing(sentence).\n"
   ]
  },
  {
   "cell_type": "markdown",
   "metadata": {},
   "source": [
    "### 文法規則からProlog節への変換"
   ]
  },
  {
   "cell_type": "code",
   "execution_count": 29,
   "metadata": {},
   "outputs": [
    {
     "data": {
      "text/html": [
       "\n",
       "            <style>\n",
       "            details  {\n",
       "              font-family: Menlo, Consolas, 'DejaVu Sans Mono', monospace; font-size: 13px;\n",
       "            }\n",
       "\n",
       "            details > summary {\n",
       "              cursor: pointer;\n",
       "            }\n",
       "            </style>\n",
       "            <details><summary>Previously defined clauses of user:translate/2 were retracted (click to expand)</summary><pre>:- dynamic translate/2.\n",
       "\n",
       "translate((A-->C),  (B:-D)) :-\n",
       "    translate(A, B, E, F),\n",
       "    translate(C, D, E, F).\n",
       "</pre></details>"
      ],
      "text/plain": [
       "Previously defined clauses of user:translate/2 were retracted:\n",
       ":- dynamic translate/2.\n",
       "\n",
       "translate((A-->C),  (B:-D)) :-\n",
       "    translate(A, B, E, F),\n",
       "    translate(C, D, E, F).\n"
      ]
     },
     "metadata": {
      "application/json": {}
     },
     "output_type": "display_data"
    },
    {
     "data": {
      "text/plain": [
       "% Asserting clauses for user:translate/2\n"
      ]
     },
     "metadata": {},
     "output_type": "display_data"
    },
    {
     "data": {
      "text/html": [
       "\n",
       "            <style>\n",
       "            details  {\n",
       "              font-family: Menlo, Consolas, 'DejaVu Sans Mono', monospace; font-size: 13px;\n",
       "            }\n",
       "\n",
       "            details > summary {\n",
       "              cursor: pointer;\n",
       "            }\n",
       "            </style>\n",
       "            <details><summary>Previously defined clauses of user:translate/3 were retracted (click to expand)</summary><pre>:- dynamic translate/3.\n",
       "\n",
       "translate(A, B, C) :-\n",
       "    non_terminal(A),\n",
       "    functor(B, A, 1),\n",
       "    arg(1, B, C).\n",
       "translate(A, true, B) :-\n",
       "    terminals(A),\n",
       "    sequence(A, B).\n",
       "</pre></details>"
      ],
      "text/plain": [
       "Previously defined clauses of user:translate/3 were retracted:\n",
       ":- dynamic translate/3.\n",
       "\n",
       "translate(A, B, C) :-\n",
       "    non_terminal(A),\n",
       "    functor(B, A, 1),\n",
       "    arg(1, B, C).\n",
       "translate(A, true, B) :-\n",
       "    terminals(A),\n",
       "    sequence(A, B).\n"
      ]
     },
     "metadata": {
      "application/json": {}
     },
     "output_type": "display_data"
    },
    {
     "data": {
      "text/plain": [
       "% Asserting clauses for user:translate/3\n"
      ]
     },
     "metadata": {},
     "output_type": "display_data"
    },
    {
     "data": {
      "text/html": [
       "\n",
       "            <style>\n",
       "            details  {\n",
       "              font-family: Menlo, Consolas, 'DejaVu Sans Mono', monospace; font-size: 13px;\n",
       "            }\n",
       "\n",
       "            details > summary {\n",
       "              cursor: pointer;\n",
       "            }\n",
       "            </style>\n",
       "            <details><summary>Previously defined clauses of user:non_terminal/1 were retracted (click to expand)</summary><pre>:- meta_predicate non_terminal(:).\n",
       "\n",
       "system:non_terminal(Spec) :-\n",
       "    '$set_pattr'(Spec, pred, non_terminal(true)).\n",
       "\n",
       "%   NOTE: system definition has been overruled for non_terminal/1\n",
       ":- dynamic non_terminal/1.\n",
       "\n",
       "non_terminal(A) :-\n",
       "    atom(A).\n",
       "</pre></details>"
      ],
      "text/plain": [
       "Previously defined clauses of user:non_terminal/1 were retracted:\n",
       ":- meta_predicate non_terminal(:).\n",
       "\n",
       "system:non_terminal(Spec) :-\n",
       "    '$set_pattr'(Spec, pred, non_terminal(true)).\n",
       "\n",
       "%   NOTE: system definition has been overruled for non_terminal/1\n",
       ":- dynamic non_terminal/1.\n",
       "\n",
       "non_terminal(A) :-\n",
       "    atom(A).\n"
      ]
     },
     "metadata": {
      "application/json": {}
     },
     "output_type": "display_data"
    },
    {
     "data": {
      "text/plain": [
       "% Asserting clauses for user:non_terminal/1\n"
      ]
     },
     "metadata": {},
     "output_type": "display_data"
    },
    {
     "data": {
      "text/html": [
       "\n",
       "            <style>\n",
       "            details  {\n",
       "              font-family: Menlo, Consolas, 'DejaVu Sans Mono', monospace; font-size: 13px;\n",
       "            }\n",
       "\n",
       "            details > summary {\n",
       "              cursor: pointer;\n",
       "            }\n",
       "            </style>\n",
       "            <details><summary>Previously defined clauses of user:terminals/1 were retracted (click to expand)</summary><pre>:- dynamic terminals/1.\n",
       "\n",
       "terminals([_|_]).\n",
       "</pre></details>"
      ],
      "text/plain": [
       "Previously defined clauses of user:terminals/1 were retracted:\n",
       ":- dynamic terminals/1.\n",
       "\n",
       "terminals([_|_]).\n"
      ]
     },
     "metadata": {
      "application/json": {}
     },
     "output_type": "display_data"
    },
    {
     "data": {
      "text/plain": [
       "% Asserting clauses for user:terminals/1\n"
      ]
     },
     "metadata": {},
     "output_type": "display_data"
    }
   ],
   "source": [
    "% translate(GrammerRule, PrologClause) :-\n",
    "%   PrologClauseは、文脈自由文法の規則GrammerRuleと等価なPrologプログラムである。\n",
    "translate((Lhs --> Rhs), (Head :- Body)) :- \n",
    "    translate(Lhs, Head, [Xs, Ys]), translate(Rhs, Body, [Xs, Ys]).\n",
    "translate((A, B), (A1, B1), [Xs, Ys]) :- \n",
    "    translate(A, A1, [Xs, Xs1]), translate(B, B1, [Xs1, Ys]).\n",
    "translate(A, A1, S) :-\n",
    "    non_terminal(A), functor(A1, A, 1), arg(1, A1, S).\n",
    "translate(Xs, true, S) :-\n",
    "    terminals(Xs), sequence(Xs, S).\n",
    "non_terminal(A) :- atom(A).\n",
    "terminals([X|Xs]).\n",
    "%sequence([X|Xs], [[X|S], S0]) :- sequence(Xs, [S, S0]).\n",
    "%sequence([], [Xs, Xs])."
   ]
  },
  {
   "cell_type": "code",
   "execution_count": 30,
   "metadata": {},
   "outputs": [
    {
     "data": {
      "text/plain": [
       "s([_15890,_15896]):-n([_15890,_15930]),v([_15930,_15896])"
      ]
     },
     "metadata": {},
     "output_type": "display_data"
    },
    {
     "data": {
      "text/plain": [
       "\u001b[1mH = s([_15890,_15896]),\n",
       "B = n([_15890,_15930]),v([_15930,_15896])"
      ]
     },
     "metadata": {},
     "output_type": "display_data"
    }
   ],
   "source": [
    "?- translate((s --> n, v), (H :- B)), print(H), print(:-), print(B)."
   ]
  },
  {
   "cell_type": "code",
   "execution_count": 31,
   "metadata": {},
   "outputs": [
    {
     "data": {
      "text/html": [
       "\n",
       "            <style>\n",
       "            details  {\n",
       "              font-family: Menlo, Consolas, 'DejaVu Sans Mono', monospace; font-size: 13px;\n",
       "            }\n",
       "\n",
       "            details > summary {\n",
       "              cursor: pointer;\n",
       "            }\n",
       "            </style>\n",
       "            <details><summary>Previously defined clauses of user:s/1 were retracted (click to expand)</summary><pre>:- dynamic s/1.\n",
       "\n",
       "s([A, C]) :-\n",
       "    n([A, B]),\n",
       "    v([B, C]).\n",
       "</pre></details>"
      ],
      "text/plain": [
       "Previously defined clauses of user:s/1 were retracted:\n",
       ":- dynamic s/1.\n",
       "\n",
       "s([A, C]) :-\n",
       "    n([A, B]),\n",
       "    v([B, C]).\n"
      ]
     },
     "metadata": {
      "application/json": {}
     },
     "output_type": "display_data"
    },
    {
     "data": {
      "text/plain": [
       "% Asserting clauses for user:s/1\n"
      ]
     },
     "metadata": {},
     "output_type": "display_data"
    }
   ],
   "source": [
    "s([_24198,_24204]):-n([_24198,_24238]),v([_24238,_24204])."
   ]
  },
  {
   "cell_type": "code",
   "execution_count": 32,
   "metadata": {},
   "outputs": [
    {
     "data": {
      "text/plain": [
       ":- dynamic s/1.\n",
       "\n",
       "s([A, C]) :-\n",
       "    n([A, B]),\n",
       "    v([B, C]).\n"
      ]
     },
     "metadata": {},
     "output_type": "display_data"
    },
    {
     "data": {
      "text/plain": [
       "\u001b[1mtrue"
      ]
     },
     "metadata": {},
     "output_type": "display_data"
    }
   ],
   "source": [
    "?- listing(s)."
   ]
  },
  {
   "cell_type": "markdown",
   "metadata": {},
   "source": [
    "## or(；)を使わない実装"
   ]
  },
  {
   "cell_type": "code",
   "execution_count": 8,
   "metadata": {},
   "outputs": [
    {
     "data": {
      "text/html": [
       "\n",
       "            <style>\n",
       "            details  {\n",
       "              font-family: Menlo, Consolas, 'DejaVu Sans Mono', monospace; font-size: 13px;\n",
       "            }\n",
       "\n",
       "            details > summary {\n",
       "              cursor: pointer;\n",
       "            }\n",
       "            </style>\n",
       "            <details><summary>Previously defined clauses of user:queens/2 were retracted (click to expand)</summary><pre>:- dynamic queens/2.\n",
       "\n",
       "queens(A, B) :-\n",
       "    generate(A, B),\n",
       "    safe(B).\n",
       "</pre></details>"
      ],
      "text/plain": [
       "Previously defined clauses of user:queens/2 were retracted:\n",
       ":- dynamic queens/2.\n",
       "\n",
       "queens(A, B) :-\n",
       "    generate(A, B),\n",
       "    safe(B).\n"
      ]
     },
     "metadata": {
      "application/json": {}
     },
     "output_type": "display_data"
    },
    {
     "data": {
      "text/plain": [
       "% Asserting clauses for user:queens/2\n"
      ]
     },
     "metadata": {},
     "output_type": "display_data"
    },
    {
     "data": {
      "text/html": [
       "\n",
       "            <style>\n",
       "            details  {\n",
       "              font-family: Menlo, Consolas, 'DejaVu Sans Mono', monospace; font-size: 13px;\n",
       "            }\n",
       "\n",
       "            details > summary {\n",
       "              cursor: pointer;\n",
       "            }\n",
       "            </style>\n",
       "            <details><summary>Previously defined clauses of user:generate/2 were retracted (click to expand)</summary><pre>:- dynamic generate/2.\n",
       "\n",
       "generate(A, C) :-\n",
       "    range(1, A, B),\n",
       "    permutation(B, C).\n",
       "</pre></details>"
      ],
      "text/plain": [
       "Previously defined clauses of user:generate/2 were retracted:\n",
       ":- dynamic generate/2.\n",
       "\n",
       "generate(A, C) :-\n",
       "    range(1, A, B),\n",
       "    permutation(B, C).\n"
      ]
     },
     "metadata": {
      "application/json": {}
     },
     "output_type": "display_data"
    },
    {
     "data": {
      "text/plain": [
       "% Asserting clauses for user:generate/2\n"
      ]
     },
     "metadata": {},
     "output_type": "display_data"
    },
    {
     "data": {
      "text/html": [
       "\n",
       "            <style>\n",
       "            details  {\n",
       "              font-family: Menlo, Consolas, 'DejaVu Sans Mono', monospace; font-size: 13px;\n",
       "            }\n",
       "\n",
       "            details > summary {\n",
       "              cursor: pointer;\n",
       "            }\n",
       "            </style>\n",
       "            <details><summary>Previously defined clauses of user:safe/1 were retracted (click to expand)</summary><pre>:- dynamic safe/1.\n",
       "\n",
       "safe([B|A]) :-\n",
       "    safe(A),\n",
       "    not(attack(B, A)).\n",
       "safe([]).\n",
       "</pre></details>"
      ],
      "text/plain": [
       "Previously defined clauses of user:safe/1 were retracted:\n",
       ":- dynamic safe/1.\n",
       "\n",
       "safe([B|A]) :-\n",
       "    safe(A),\n",
       "    not(attack(B, A)).\n",
       "safe([]).\n"
      ]
     },
     "metadata": {
      "application/json": {}
     },
     "output_type": "display_data"
    },
    {
     "data": {
      "text/plain": [
       "% Asserting clauses for user:safe/1\n"
      ]
     },
     "metadata": {},
     "output_type": "display_data"
    },
    {
     "data": {
      "text/html": [
       "\n",
       "            <style>\n",
       "            details  {\n",
       "              font-family: Menlo, Consolas, 'DejaVu Sans Mono', monospace; font-size: 13px;\n",
       "            }\n",
       "\n",
       "            details > summary {\n",
       "              cursor: pointer;\n",
       "            }\n",
       "            </style>\n",
       "            <details><summary>Previously defined clauses of user:attack/2 were retracted (click to expand)</summary><pre>:- dynamic attack/2.\n",
       "\n",
       "attack(A, B) :-\n",
       "    attack(A, 1, B).\n",
       "</pre></details>"
      ],
      "text/plain": [
       "Previously defined clauses of user:attack/2 were retracted:\n",
       ":- dynamic attack/2.\n",
       "\n",
       "attack(A, B) :-\n",
       "    attack(A, 1, B).\n"
      ]
     },
     "metadata": {
      "application/json": {}
     },
     "output_type": "display_data"
    },
    {
     "data": {
      "text/plain": [
       "% Asserting clauses for user:attack/2\n"
      ]
     },
     "metadata": {},
     "output_type": "display_data"
    },
    {
     "data": {
      "text/html": [
       "\n",
       "            <style>\n",
       "            details  {\n",
       "              font-family: Menlo, Consolas, 'DejaVu Sans Mono', monospace; font-size: 13px;\n",
       "            }\n",
       "\n",
       "            details > summary {\n",
       "              cursor: pointer;\n",
       "            }\n",
       "            </style>\n",
       "            <details><summary>Previously defined clauses of user:attack/3 were retracted (click to expand)</summary><pre>:- dynamic attack/3.\n",
       "\n",
       "attack(A, C, [B|_]) :-\n",
       "    (   A is B+C\n",
       "    ;   A is B-C\n",
       "    ).\n",
       "</pre></details>"
      ],
      "text/plain": [
       "Previously defined clauses of user:attack/3 were retracted:\n",
       ":- dynamic attack/3.\n",
       "\n",
       "attack(A, C, [B|_]) :-\n",
       "    (   A is B+C\n",
       "    ;   A is B-C\n",
       "    ).\n"
      ]
     },
     "metadata": {
      "application/json": {}
     },
     "output_type": "display_data"
    },
    {
     "data": {
      "text/plain": [
       "% Asserting clauses for user:attack/3\n"
      ]
     },
     "metadata": {},
     "output_type": "display_data"
    },
    {
     "data": {
      "text/plain": [
       "\u001b[1mQs = [2,4,1,3]"
      ]
     },
     "metadata": {},
     "output_type": "display_data"
    },
    {
     "data": {
      "text/plain": [
       "% Retrying goal: queens(4,Qs)\n"
      ]
     },
     "metadata": {},
     "output_type": "display_data"
    },
    {
     "data": {
      "text/plain": [
       "\u001b[1mQs = [3,1,4,2]"
      ]
     },
     "metadata": {},
     "output_type": "display_data"
    }
   ],
   "source": [
    "queens(N, Qs) :- generate(N, Qs), safe(Qs).\n",
    "generate(N, Qs) :- range(1, N, Ns), permutation(Ns, Qs).\n",
    "safe([Q|Qs]) :- safe(Qs), not(attack(Q, Qs)).\n",
    "safe([]).\n",
    "attack(X, Xs) :- attack(X, 1, Xs).\n",
    "attack(X, N, [Y|Ys]) :- X is Y + N.\n",
    "attack(X, N, [Y|Ys]) :- X is Y - N.\n",
    "?- queens(4, Qs).\n",
    "?- retry."
   ]
  },
  {
   "cell_type": "markdown",
   "metadata": {},
   "source": [
    "### 差分リストの表現\n",
    "X\\Yが差分リストの表記になっているが、これを[X, Y]として実行しても問題ないかためす。\n",
    "\n",
    "差分リストのメリットは、リストのコピーが不要で、tail(尾部)は、ポインターとして働くことです。"
   ]
  },
  {
   "cell_type": "code",
   "execution_count": 9,
   "metadata": {},
   "outputs": [
    {
     "data": {
      "text/plain": [
       "% Asserting clauses for user:append_dl/3\n"
      ]
     },
     "metadata": {},
     "output_type": "display_data"
    },
    {
     "data": {
      "text/plain": [
       "\u001b[1mXs = [1,2],\n",
       "Ys = [[a,b,c,1,2],[]]"
      ]
     },
     "metadata": {},
     "output_type": "display_data"
    }
   ],
   "source": [
    "append_dl([Xs, Ys], [Ys, Zs], [Xs, Zs]).\n",
    "?- append_dl([[a, b, c|Xs], Xs], [[1, 2], []], Ys)."
   ]
  },
  {
   "cell_type": "code",
   "execution_count": 10,
   "metadata": {},
   "outputs": [
    {
     "data": {
      "text/plain": [
       "% Asserting clauses for user:s/2\n"
      ]
     },
     "metadata": {},
     "output_type": "display_data"
    },
    {
     "data": {
      "text/plain": [
       "% Asserting clauses for user:np/2\n"
      ]
     },
     "metadata": {},
     "output_type": "display_data"
    },
    {
     "data": {
      "text/plain": [
       "% Asserting clauses for user:vp/2\n"
      ]
     },
     "metadata": {},
     "output_type": "display_data"
    },
    {
     "data": {
      "text/plain": [
       "% Asserting clauses for user:det/2\n"
      ]
     },
     "metadata": {},
     "output_type": "display_data"
    },
    {
     "data": {
      "text/plain": [
       "% Asserting clauses for user:n/2\n"
      ]
     },
     "metadata": {},
     "output_type": "display_data"
    },
    {
     "data": {
      "text/plain": [
       "% Asserting clauses for user:v/2\n"
      ]
     },
     "metadata": {},
     "output_type": "display_data"
    }
   ],
   "source": [
    "s --> np,vp.\n",
    "\n",
    "np --> det,n.\n",
    "\n",
    "vp --> v,np.\n",
    "vp --> v.\n",
    "\n",
    "det --> [the].\n",
    "det --> [a].\n",
    "\n",
    "n --> [woman].\n",
    "n --> [man].\n",
    "\n",
    "v --> [shoots]."
   ]
  },
  {
   "cell_type": "code",
   "execution_count": 11,
   "metadata": {},
   "outputs": [
    {
     "data": {
      "text/plain": [
       "\u001b[1mtrue"
      ]
     },
     "metadata": {},
     "output_type": "display_data"
    }
   ],
   "source": [
    "?- s([a,woman,shoots,a,man],[])."
   ]
  },
  {
   "cell_type": "code",
   "execution_count": 12,
   "metadata": {},
   "outputs": [
    {
     "data": {
      "text/plain": [
       "\u001b[1mX = [the,woman,shoots,the,woman]"
      ]
     },
     "metadata": {},
     "output_type": "display_data"
    }
   ],
   "source": [
    "?- s(X,[])."
   ]
  },
  {
   "cell_type": "code",
   "execution_count": 13,
   "metadata": {},
   "outputs": [
    {
     "data": {
      "text/plain": [
       "\u001b[1mtrue"
      ]
     },
     "metadata": {},
     "output_type": "display_data"
    }
   ],
   "source": [
    "?- np([a,woman],[])."
   ]
  },
  {
   "cell_type": "code",
   "execution_count": 14,
   "metadata": {},
   "outputs": [
    {
     "data": {
      "text/plain": [
       "\u001b[1mX = [the,woman]"
      ]
     },
     "metadata": {},
     "output_type": "display_data"
    }
   ],
   "source": [
    "?- np(X,[])."
   ]
  },
  {
   "cell_type": "code",
   "execution_count": 15,
   "metadata": {},
   "outputs": [
    {
     "data": {
      "text/plain": [
       ":- dynamic s/1.\n",
       "\n",
       "s([A, C]) :-\n",
       "    n([A, B]),\n",
       "    v([B, C]).\n",
       "\n",
       ":- dynamic s/2.\n",
       "\n",
       "s(A, C) :-\n",
       "    np(A, B),\n",
       "    vp(B, C).\n"
      ]
     },
     "metadata": {},
     "output_type": "display_data"
    },
    {
     "data": {
      "text/plain": [
       "\u001b[1mtrue"
      ]
     },
     "metadata": {},
     "output_type": "display_data"
    }
   ],
   "source": [
    "?- listing(s).\n"
   ]
  },
  {
   "cell_type": "markdown",
   "metadata": {},
   "source": [
    "### 16.5の例題"
   ]
  },
  {
   "cell_type": "code",
   "execution_count": 16,
   "metadata": {},
   "outputs": [
    {
     "data": {
      "text/plain": [
       "% Asserting clauses for user:number/3\n"
      ]
     },
     "metadata": {},
     "output_type": "display_data"
    },
    {
     "data": {
      "text/plain": [
       "% Asserting clauses for user:xxx/3\n"
      ]
     },
     "metadata": {},
     "output_type": "display_data"
    },
    {
     "data": {
      "text/plain": [
       "% Asserting clauses for user:rest_xxx/3\n"
      ]
     },
     "metadata": {},
     "output_type": "display_data"
    },
    {
     "data": {
      "text/plain": [
       "% Asserting clauses for user:xx/3\n"
      ]
     },
     "metadata": {},
     "output_type": "display_data"
    },
    {
     "data": {
      "text/plain": [
       "% Asserting clauses for user:rest_xx/3\n"
      ]
     },
     "metadata": {},
     "output_type": "display_data"
    },
    {
     "data": {
      "text/plain": [
       "% Asserting clauses for user:digit/3\n"
      ]
     },
     "metadata": {},
     "output_type": "display_data"
    },
    {
     "data": {
      "text/plain": [
       "% Asserting clauses for user:teen/3\n"
      ]
     },
     "metadata": {},
     "output_type": "display_data"
    },
    {
     "data": {
      "text/plain": [
       "% Asserting clauses for user:tens/3\n"
      ]
     },
     "metadata": {},
     "output_type": "display_data"
    }
   ],
   "source": [
    "number(0) --> [zero].\n",
    "number(N) --> xxx(N).\n",
    "xxx(N) --> digit(D), [hundred], rest_xxx(N1), { N is D*100 + N1}.\n",
    "xxx(N) --> xx(N).\n",
    "rest_xxx(0) --> [].\n",
    "rest_xxx(N) --> [and], xx(N).\n",
    "\n",
    "xx(N) --> digit(N).\n",
    "xx(N) --> teen(N).\n",
    "xx(N) --> tens(T), rest_xx(N1), {N is T + N1}.\n",
    "\n",
    "rest_xx(0) --> [].\n",
    "rest_xx(N) --> digit(N).\n",
    "\n",
    "digit(1) --> [one].     teen(10) --> [ten].\n",
    "digit(2) --> [two].     teen(11) --> [eleven].\n",
    "digit(3) --> [three].   teen(12) --> [twelve].\n",
    "digit(4) --> [four].    teen(13) --> [thirteen].\n",
    "digit(5) --> [five].    teen(14) --> [fourteen].\n",
    "digit(6) --> [six].     teen(15) --> [fifteen].\n",
    "digit(7) --> [seven].   teen(16) --> [sixteen].\n",
    "digit(8) --> [eight].   teen(17) --> [seventeen].\n",
    "digit(9) --> [nine].    teen(18) --> [eighteen].\n",
    "                        teen(19) --> [nineteen].\n",
    "tens(20) --> [twenty].\n",
    "tens(30) --> [thirty].\n",
    "tens(40) --> [fourty].\n",
    "tens(50) --> [fifty].\n",
    "tens(60) --> [sixty].\n",
    "tens(70) --> [seventy].\n",
    "tens(80) --> [eighty].\n",
    "tens(90) --> [ninety].\n"
   ]
  },
  {
   "cell_type": "code",
   "execution_count": 17,
   "metadata": {},
   "outputs": [
    {
     "data": {
      "text/plain": [
       "%   Foreign: system:number/1\n",
       "\n",
       ":- dynamic number/3.\n",
       "\n",
       "number(0, [zero|A], A).\n",
       "number(A, B, C) :-\n",
       "    xxx(A, B, C).\n"
      ]
     },
     "metadata": {},
     "output_type": "display_data"
    },
    {
     "data": {
      "text/plain": [
       "\u001b[1mtrue"
      ]
     },
     "metadata": {},
     "output_type": "display_data"
    }
   ],
   "source": [
    "?- listing(number)."
   ]
  },
  {
   "cell_type": "code",
   "execution_count": 18,
   "metadata": {},
   "outputs": [
    {
     "data": {
      "text/plain": [
       "\u001b[1mNs = [sixty,six]"
      ]
     },
     "metadata": {},
     "output_type": "display_data"
    }
   ],
   "source": [
    "?- number(66, Ns, [])."
   ]
  },
  {
   "cell_type": "markdown",
   "metadata": {},
   "source": [
    "### 順番と選択\n",
    "dcgでは、終端子、非終端子の並びをカンマで区切って指定し、選択しは同名の非終端子に複数の定義を記述することで実現する。\n",
    "\n",
    "left recursionしてはいけない！\n",
    "\n",
    "文法を右結合に変更"
   ]
  },
  {
   "cell_type": "code",
   "execution_count": 19,
   "metadata": {},
   "outputs": [
    {
     "data": {
      "text/plain": [
       "% Asserting clauses for user:expr/2\n"
      ]
     },
     "metadata": {},
     "output_type": "display_data"
    },
    {
     "data": {
      "text/plain": [
       "% Asserting clauses for user:addterm/2\n"
      ]
     },
     "metadata": {},
     "output_type": "display_data"
    },
    {
     "data": {
      "text/plain": [
       "% Asserting clauses for user:term/2\n"
      ]
     },
     "metadata": {},
     "output_type": "display_data"
    },
    {
     "data": {
      "text/plain": [
       "% Asserting clauses for user:multfactor/2\n"
      ]
     },
     "metadata": {},
     "output_type": "display_data"
    },
    {
     "data": {
      "text/plain": [
       "% Asserting clauses for user:factor/2\n"
      ]
     },
     "metadata": {},
     "output_type": "display_data"
    }
   ],
   "source": [
    "expr --> term, addterm.\n",
    "addterm --> [].\n",
    "addterm --> [+], expr.\n",
    "term --> factor, multfactor.\n",
    "multfactor --> [].\n",
    "multfactor --> [*], term.\n",
    "factor --> [I], {integer(I)}.\n",
    "factor --> ['('], expr, [')']."
   ]
  },
  {
   "cell_type": "code",
   "execution_count": 20,
   "metadata": {},
   "outputs": [
    {
     "data": {
      "text/plain": [
       "\u001b[1mtrue"
      ]
     },
     "metadata": {},
     "output_type": "display_data"
    }
   ],
   "source": [
    "?- expr([4,*,5,+,1], [])."
   ]
  },
  {
   "cell_type": "code",
   "execution_count": 21,
   "metadata": {},
   "outputs": [
    {
     "data": {
      "text/plain": [
       ":- dynamic expr/2.\n",
       "\n",
       "expr(A, C) :-\n",
       "    term(A, B),\n",
       "    addterm(B, C).\n"
      ]
     },
     "metadata": {},
     "output_type": "display_data"
    },
    {
     "data": {
      "text/plain": [
       "\u001b[1mtrue"
      ]
     },
     "metadata": {},
     "output_type": "display_data"
    }
   ],
   "source": [
    "?- listing(expr)."
   ]
  },
  {
   "cell_type": "markdown",
   "metadata": {},
   "source": [
    "### 計算結果を返す"
   ]
  },
  {
   "cell_type": "code",
   "execution_count": 22,
   "metadata": {},
   "outputs": [
    {
     "data": {
      "text/plain": [
       "% Asserting clauses for user:expr/3\n"
      ]
     },
     "metadata": {},
     "output_type": "display_data"
    },
    {
     "data": {
      "text/plain": [
       "% Asserting clauses for user:addterm/3\n"
      ]
     },
     "metadata": {},
     "output_type": "display_data"
    },
    {
     "data": {
      "text/plain": [
       "% Asserting clauses for user:term/3\n"
      ]
     },
     "metadata": {},
     "output_type": "display_data"
    },
    {
     "data": {
      "text/plain": [
       "% Asserting clauses for user:multfactor/3\n"
      ]
     },
     "metadata": {},
     "output_type": "display_data"
    },
    {
     "data": {
      "text/plain": [
       "% Asserting clauses for user:factor/3\n"
      ]
     },
     "metadata": {},
     "output_type": "display_data"
    }
   ],
   "source": [
    "expr(N) --> term(X), addterm(Y), { N is X + Y}.\n",
    "addterm(0) --> [].\n",
    "addterm(N) --> [+], expr(N).\n",
    "term(N) --> factor(X), multfactor(Y), {N is X * Y}.\n",
    "multfactor(1) --> [].\n",
    "multfactor(S) --> [*], term(S).\n",
    "factor(I) --> [I], {integer(I)}."
   ]
  },
  {
   "cell_type": "code",
   "execution_count": 23,
   "metadata": {},
   "outputs": [
    {
     "data": {
      "text/plain": [
       ":- dynamic expr/2.\n",
       "\n",
       "expr(A, C) :-\n",
       "    term(A, B),\n",
       "    addterm(B, C).\n",
       "\n",
       ":- dynamic expr/3.\n",
       "\n",
       "expr(C, A, F) :-\n",
       "    term(D, A, B),\n",
       "    addterm(E, B, G),\n",
       "    C is D+E,\n",
       "    F=G.\n"
      ]
     },
     "metadata": {},
     "output_type": "display_data"
    },
    {
     "data": {
      "text/plain": [
       "\u001b[1mtrue"
      ]
     },
     "metadata": {},
     "output_type": "display_data"
    }
   ],
   "source": [
    "?- listing(expr)."
   ]
  },
  {
   "cell_type": "code",
   "execution_count": 24,
   "metadata": {},
   "outputs": [
    {
     "data": {
      "text/plain": [
       "\u001b[1mY = 7"
      ]
     },
     "metadata": {},
     "output_type": "display_data"
    }
   ],
   "source": [
    "?- expr(Y, [1,+,2,*,3], [])."
   ]
  },
  {
   "cell_type": "markdown",
   "metadata": {},
   "source": [
    "### 以前作成したANTLRの文法を実装\n",
    "選択子は、（|）を使い、空を[]で指定する。"
   ]
  },
  {
   "cell_type": "code",
   "execution_count": 25,
   "metadata": {},
   "outputs": [
    {
     "data": {
      "text/plain": [
       "% Asserting clauses for user:expression/3\n"
      ]
     },
     "metadata": {},
     "output_type": "display_data"
    },
    {
     "data": {
      "text/plain": [
       "% Asserting clauses for user:product/3\n"
      ]
     },
     "metadata": {},
     "output_type": "display_data"
    },
    {
     "data": {
      "text/plain": [
       "% Asserting clauses for user:power/3\n"
      ]
     },
     "metadata": {},
     "output_type": "display_data"
    },
    {
     "data": {
      "text/html": [
       "\n",
       "            <style>\n",
       "            details  {\n",
       "              font-family: Menlo, Consolas, 'DejaVu Sans Mono', monospace; font-size: 13px;\n",
       "            }\n",
       "\n",
       "            details > summary {\n",
       "              cursor: pointer;\n",
       "            }\n",
       "            </style>\n",
       "            <details><summary>Previously defined clauses of user:factor/3 were retracted (click to expand)</summary><pre>:- dynamic factor/3.\n",
       "\n",
       "factor(A, [A|C], B) :-\n",
       "    integer(A),\n",
       "    B=C.\n",
       "</pre></details>"
      ],
      "text/plain": [
       "Previously defined clauses of user:factor/3 were retracted:\n",
       ":- dynamic factor/3.\n",
       "\n",
       "factor(A, [A|C], B) :-\n",
       "    integer(A),\n",
       "    B=C.\n"
      ]
     },
     "metadata": {
      "application/json": {}
     },
     "output_type": "display_data"
    },
    {
     "data": {
      "text/plain": [
       "% Asserting clauses for user:factor/3\n"
      ]
     },
     "metadata": {},
     "output_type": "display_data"
    }
   ],
   "source": [
    "expression(N) -->\n",
    "    product(X), \n",
    "    ( [],\n",
    "        {N is X}\n",
    "    | [+], expression(Y), \n",
    "        {N is X + Y} \n",
    "    | [-], expression(Y), \n",
    "        {N is X - Y}\n",
    "    ).\n",
    "product(N) -->\n",
    "    power(X), \n",
    "    ( [],\n",
    "        { N is X}\n",
    "    | [*], product(Y),\n",
    "        { N is X * Y}\n",
    "    | [/], product(Y),\n",
    "        { N is X / Y}\n",
    "    ).\n",
    "power(N) -->\n",
    "    factor(X),\n",
    "    ([],\n",
    "        { N is X}\n",
    "    | ['^'], power(Y),\n",
    "        { N is X**Y}\n",
    "    ).\n",
    "factor(I) --> [I], {number(I)}.\n",
    "    "
   ]
  },
  {
   "cell_type": "code",
   "execution_count": 26,
   "metadata": {},
   "outputs": [
    {
     "data": {
      "text/plain": [
       "\u001b[1mN = 33"
      ]
     },
     "metadata": {},
     "output_type": "display_data"
    }
   ],
   "source": [
    "?- expression(N, [1, +, 2, '^', 3, *, 4], [])."
   ]
  },
  {
   "cell_type": "code",
   "execution_count": 27,
   "metadata": {},
   "outputs": [
    {
     "data": {
      "text/plain": [
       ":- dynamic expression/3.\n",
       "\n",
       "expression(C, A, E) :-\n",
       "    product(D, A, B),\n",
       "    (   B=F,\n",
       "        C is D,\n",
       "        E=F\n",
       "    ;   B=[+|G],\n",
       "        expression(H, G, I),\n",
       "        C is D+H,\n",
       "        E=I\n",
       "    ;   B=[-|J],\n",
       "        expression(H, J, K),\n",
       "        C is D-H,\n",
       "        E=K\n",
       "    ).\n"
      ]
     },
     "metadata": {},
     "output_type": "display_data"
    },
    {
     "data": {
      "text/plain": [
       "\u001b[1mtrue"
      ]
     },
     "metadata": {},
     "output_type": "display_data"
    }
   ],
   "source": [
    "?- listing(expression)."
   ]
  },
  {
   "cell_type": "markdown",
   "metadata": {},
   "source": [
    "### 構文木の生成\n"
   ]
  },
  {
   "cell_type": "code",
   "execution_count": 28,
   "metadata": {},
   "outputs": [
    {
     "data": {
      "text/plain": [
       "% Asserting clauses for user:parse/2\n"
      ]
     },
     "metadata": {},
     "output_type": "display_data"
    },
    {
     "data": {
      "text/html": [
       "\n",
       "            <style>\n",
       "            details  {\n",
       "              font-family: Menlo, Consolas, 'DejaVu Sans Mono', monospace; font-size: 13px;\n",
       "            }\n",
       "\n",
       "            details > summary {\n",
       "              cursor: pointer;\n",
       "            }\n",
       "            </style>\n",
       "            <details><summary>Previously defined clauses of user:expression/3 were retracted (click to expand)</summary><pre>:- dynamic expression/3.\n",
       "\n",
       "expression(C, A, E) :-\n",
       "    product(D, A, B),\n",
       "    (   B=F,\n",
       "        C is D,\n",
       "        E=F\n",
       "    ;   B=[+|G],\n",
       "        expression(H, G, I),\n",
       "        C is D+H,\n",
       "        E=I\n",
       "    ;   B=[-|J],\n",
       "        expression(H, J, K),\n",
       "        C is D-H,\n",
       "        E=K\n",
       "    ).\n",
       "</pre></details>"
      ],
      "text/plain": [
       "Previously defined clauses of user:expression/3 were retracted:\n",
       ":- dynamic expression/3.\n",
       "\n",
       "expression(C, A, E) :-\n",
       "    product(D, A, B),\n",
       "    (   B=F,\n",
       "        C is D,\n",
       "        E=F\n",
       "    ;   B=[+|G],\n",
       "        expression(H, G, I),\n",
       "        C is D+H,\n",
       "        E=I\n",
       "    ;   B=[-|J],\n",
       "        expression(H, J, K),\n",
       "        C is D-H,\n",
       "        E=K\n",
       "    ).\n"
      ]
     },
     "metadata": {
      "application/json": {}
     },
     "output_type": "display_data"
    },
    {
     "data": {
      "text/plain": [
       "% Asserting clauses for user:expression/3\n"
      ]
     },
     "metadata": {},
     "output_type": "display_data"
    },
    {
     "data": {
      "text/html": [
       "\n",
       "            <style>\n",
       "            details  {\n",
       "              font-family: Menlo, Consolas, 'DejaVu Sans Mono', monospace; font-size: 13px;\n",
       "            }\n",
       "\n",
       "            details > summary {\n",
       "              cursor: pointer;\n",
       "            }\n",
       "            </style>\n",
       "            <details><summary>Previously defined clauses of user:product/3 were retracted (click to expand)</summary><pre>:- dynamic product/3.\n",
       "\n",
       "product(C, A, E) :-\n",
       "    power(D, A, B),\n",
       "    (   B=F,\n",
       "        C is D,\n",
       "        E=F\n",
       "    ;   B=[*|G],\n",
       "        product(H, G, I),\n",
       "        C is D*H,\n",
       "        E=I\n",
       "    ;   B=[/|J],\n",
       "        product(H, J, K),\n",
       "        C is D/H,\n",
       "        E=K\n",
       "    ).\n",
       "</pre></details>"
      ],
      "text/plain": [
       "Previously defined clauses of user:product/3 were retracted:\n",
       ":- dynamic product/3.\n",
       "\n",
       "product(C, A, E) :-\n",
       "    power(D, A, B),\n",
       "    (   B=F,\n",
       "        C is D,\n",
       "        E=F\n",
       "    ;   B=[*|G],\n",
       "        product(H, G, I),\n",
       "        C is D*H,\n",
       "        E=I\n",
       "    ;   B=[/|J],\n",
       "        product(H, J, K),\n",
       "        C is D/H,\n",
       "        E=K\n",
       "    ).\n"
      ]
     },
     "metadata": {
      "application/json": {}
     },
     "output_type": "display_data"
    },
    {
     "data": {
      "text/plain": [
       "% Asserting clauses for user:product/3\n"
      ]
     },
     "metadata": {},
     "output_type": "display_data"
    },
    {
     "data": {
      "text/html": [
       "\n",
       "            <style>\n",
       "            details  {\n",
       "              font-family: Menlo, Consolas, 'DejaVu Sans Mono', monospace; font-size: 13px;\n",
       "            }\n",
       "\n",
       "            details > summary {\n",
       "              cursor: pointer;\n",
       "            }\n",
       "            </style>\n",
       "            <details><summary>Previously defined clauses of user:power/3 were retracted (click to expand)</summary><pre>:- dynamic power/3.\n",
       "\n",
       "power(C, A, E) :-\n",
       "    factor(D, A, B),\n",
       "    (   B=F,\n",
       "        C is D,\n",
       "        E=F\n",
       "    ;   B=[^|G],\n",
       "        power(H, G, I),\n",
       "        C is D**H,\n",
       "        E=I\n",
       "    ).\n",
       "</pre></details>"
      ],
      "text/plain": [
       "Previously defined clauses of user:power/3 were retracted:\n",
       ":- dynamic power/3.\n",
       "\n",
       "power(C, A, E) :-\n",
       "    factor(D, A, B),\n",
       "    (   B=F,\n",
       "        C is D,\n",
       "        E=F\n",
       "    ;   B=[^|G],\n",
       "        power(H, G, I),\n",
       "        C is D**H,\n",
       "        E=I\n",
       "    ).\n"
      ]
     },
     "metadata": {
      "application/json": {}
     },
     "output_type": "display_data"
    },
    {
     "data": {
      "text/plain": [
       "% Asserting clauses for user:power/3\n"
      ]
     },
     "metadata": {},
     "output_type": "display_data"
    },
    {
     "data": {
      "text/html": [
       "\n",
       "            <style>\n",
       "            details  {\n",
       "              font-family: Menlo, Consolas, 'DejaVu Sans Mono', monospace; font-size: 13px;\n",
       "            }\n",
       "\n",
       "            details > summary {\n",
       "              cursor: pointer;\n",
       "            }\n",
       "            </style>\n",
       "            <details><summary>Previously defined clauses of user:factor/3 were retracted (click to expand)</summary><pre>:- dynamic factor/3.\n",
       "\n",
       "factor(A, [A|C], B) :-\n",
       "    number(A),\n",
       "    B=C.\n",
       "</pre></details>"
      ],
      "text/plain": [
       "Previously defined clauses of user:factor/3 were retracted:\n",
       ":- dynamic factor/3.\n",
       "\n",
       "factor(A, [A|C], B) :-\n",
       "    number(A),\n",
       "    B=C.\n"
      ]
     },
     "metadata": {
      "application/json": {}
     },
     "output_type": "display_data"
    },
    {
     "data": {
      "text/plain": [
       "% Asserting clauses for user:factor/3\n"
      ]
     },
     "metadata": {},
     "output_type": "display_data"
    }
   ],
   "source": [
    "parse(Source, Structure) :- expression(Structure, Source, []).\n",
    "expression(N) -->\n",
    "    product(X),         \n",
    "    ( [],\n",
    "        { N = node(\"product\", X) }\n",
    "    | [+], expression(Y1), \n",
    "        { N = node(\"+\", X, Y1) }\n",
    "    | [-], expression(Y2), \n",
    "        { N = node(\"-\", X, Y2) }\n",
    "    ).\n",
    "product(N) -->\n",
    "    power(X),\n",
    "    ( [],\n",
    "        { N = node(\"product\", X) }\n",
    "    | [*], product(Y1),\n",
    "        { N = node(\"*\", X, Y1) }\n",
    "    | [/], product(Y2),\n",
    "        { N = node(\"/\", X, Y2) }\n",
    "    ).\n",
    "power(N) -->\n",
    "    factor(X),\n",
    "    ([],\n",
    "        { N = node(\"power\", X) }\n",
    "    | ['^'], power(Y1),\n",
    "        { N = node(\"^\", X, Y1)}\n",
    "    ).\n",
    "factor(node(\"factor\", I)) --> [I], {number(I)}."
   ]
  },
  {
   "cell_type": "code",
   "execution_count": 29,
   "metadata": {},
   "outputs": [
    {
     "data": {
      "text/plain": [
       "\u001b[1mTree = node(+,node(product,node(power,node(factor,1))),node(product,node(*,node(^,node(factor,2),node(power,node(factor,3))),node(product,node(power,node(factor,4))))))"
      ]
     },
     "metadata": {},
     "output_type": "display_data"
    }
   ],
   "source": [
    "?- parse([1, +, 2, '^', 3, *, 4], Tree)."
   ]
  },
  {
   "cell_type": "markdown",
   "metadata": {},
   "source": [
    "```text\n",
    "node(+,                                 => +                                    => 1 + 32   => 33\n",
    "    node(product,\n",
    "        node(power,\n",
    "            node(factor,1)              => 1                                    ↑\n",
    "        )\n",
    "    ),\n",
    "    node(product,\n",
    "        node(*,                         => *                    => 8*4  => 32   ↑\n",
    "            node(^,                     => ^    => 2^3  => 8    ↑\n",
    "                node(factor,2),         => 2    ↑\n",
    "                    node(power,         \n",
    "                        node(factor,3)  => 3    ↑\n",
    "                    )\n",
    "                ),\n",
    "                node(product,\n",
    "                    node(power,\n",
    "                        node(factor,4)  => 4                    ↑\n",
    "                    )\n",
    "                )\n",
    "            )\n",
    "        )\n",
    "    )\n",
    "```"
   ]
  },
  {
   "cell_type": "code",
   "execution_count": 30,
   "metadata": {},
   "outputs": [
    {
     "data": {
      "text/plain": [
       ":- dynamic expression/3.\n",
       "\n",
       "expression(C, A, E) :-\n",
       "    product(D, A, B),\n",
       "    (   B=F,\n",
       "        C=node(\"product\", D),\n",
       "        E=F\n",
       "    ;   B=[+|G],\n",
       "        expression(H, G, I),\n",
       "        C=node(\"+\", D, H),\n",
       "        E=I\n",
       "    ;   B=[-|J],\n",
       "        expression(K, J, L),\n",
       "        C=node(\"-\", D, K),\n",
       "        E=L\n",
       "    ).\n"
      ]
     },
     "metadata": {},
     "output_type": "display_data"
    },
    {
     "data": {
      "text/plain": [
       "\u001b[1mtrue"
      ]
     },
     "metadata": {},
     "output_type": "display_data"
    }
   ],
   "source": [
    "?- listing(expression)."
   ]
  },
  {
   "cell_type": "markdown",
   "metadata": {},
   "source": [
    "## １７章　２階プログラミング\n",
    "個体ではなく、集合やその属性を扱う技法は、「２階プログラミング」と呼ばれます。\n",
    "\n",
    "特に17.3節で扱っている２階述語では「述語名」が変数である様な規則を用いることができます。"
   ]
  },
  {
   "cell_type": "code",
   "execution_count": 31,
   "metadata": {},
   "outputs": [
    {
     "data": {
      "text/plain": [
       "% Asserting clauses for user:male/1\n"
      ]
     },
     "metadata": {},
     "output_type": "display_data"
    },
    {
     "data": {
      "text/plain": [
       "% Asserting clauses for user:female/1\n"
      ]
     },
     "metadata": {},
     "output_type": "display_data"
    },
    {
     "data": {
      "text/plain": [
       "% Asserting clauses for user:father/2\n"
      ]
     },
     "metadata": {},
     "output_type": "display_data"
    }
   ],
   "source": [
    "male(abraham).  male(haran).    female(yiscah).\n",
    "male(isaac).    male(nachor).   female(milcah).\n",
    "male(lot).\n",
    "\n",
    "father(abraham, issac).\n",
    "father(haran, lot).\n",
    "father(haran, milcah).\n",
    "father(haran, yiscah)."
   ]
  },
  {
   "cell_type": "markdown",
   "metadata": {},
   "source": [
    "Xsの各要素が属性Pを持つ時に真を返すhas_propertyをそのまま定義すると、以下の様になる。\n",
    "\n",
    "しかし、この規則はPがfunctor（オペレータ）である必要があり、コンパイルエラーとなります(コメント%を外して実行)。"
   ]
  },
  {
   "cell_type": "code",
   "execution_count": 32,
   "metadata": {},
   "outputs": [],
   "source": [
    "%has_property([X|Xs], P) :- P(X), has_property(Xs, P).\n",
    "%has_property([], P).\n",
    "%?- has_property([abraham, haran], male)."
   ]
  },
  {
   "cell_type": "markdown",
   "metadata": {},
   "source": [
    "そこで、Xにfunctor（述語）Pを適用するapply(P, X)をcallを使って定義すると、期待通りに動作するようになります。"
   ]
  },
  {
   "cell_type": "code",
   "execution_count": 33,
   "metadata": {},
   "outputs": [
    {
     "data": {
      "text/plain": [
       "% Asserting clauses for user:has_property/2\n"
      ]
     },
     "metadata": {},
     "output_type": "display_data"
    },
    {
     "data": {
      "text/plain": [
       "\u001b[1mtrue"
      ]
     },
     "metadata": {},
     "output_type": "display_data"
    }
   ],
   "source": [
    "has_property([X|Xs], P) :- apply(P, X), has_property(Xs, P).\n",
    "has_property([], P).\n",
    "apply(P, X) :- call(P, X).\n",
    "\n",
    "?- has_property([abraham, haran], male)."
   ]
  },
  {
   "cell_type": "markdown",
   "metadata": {},
   "source": [
    "述語Pの引数がリストの場合、univを使って以下の様にapply(P, Xs)を定義します。"
   ]
  },
  {
   "cell_type": "code",
   "execution_count": 34,
   "metadata": {},
   "outputs": [
    {
     "data": {
      "text/html": [
       "\n",
       "            <style>\n",
       "            details  {\n",
       "              font-family: Menlo, Consolas, 'DejaVu Sans Mono', monospace; font-size: 13px;\n",
       "            }\n",
       "\n",
       "            details > summary {\n",
       "              cursor: pointer;\n",
       "            }\n",
       "            </style>\n",
       "            <details><summary>Previously defined clauses of user:apply/2 were retracted (click to expand)</summary><pre>:- meta_predicate'$apply':apply(:,+).\n",
       "\n",
       "'$apply':apply(M:Name, Extra) :-\n",
       "    atom(Name),\n",
       "    !,\n",
       "    compound_name_arguments(G, Name, Extra),\n",
       "    call(M:G).\n",
       "'$apply':apply(M:Goal, Extra) :-\n",
       "    compound(Goal),\n",
       "    !,\n",
       "    compound_name_arguments(Goal, Name, Args0),\n",
       "    '$append'(Args0, Extra, Args),\n",
       "    compound_name_arguments(G, Name, Args),\n",
       "    call(M:G).\n",
       "'$apply':apply(_:Goal, _Extra) :-\n",
       "    '$type_error'(callable, Goal).\n",
       "\n",
       "%   NOTE: system definition has been overruled for apply/2\n",
       ":- dynamic apply/2.\n",
       "\n",
       "apply(A, B) :-\n",
       "    call(A, B).\n",
       "</pre></details>"
      ],
      "text/plain": [
       "Previously defined clauses of user:apply/2 were retracted:\n",
       ":- meta_predicate'$apply':apply(:,+).\n",
       "\n",
       "'$apply':apply(M:Name, Extra) :-\n",
       "    atom(Name),\n",
       "    !,\n",
       "    compound_name_arguments(G, Name, Extra),\n",
       "    call(M:G).\n",
       "'$apply':apply(M:Goal, Extra) :-\n",
       "    compound(Goal),\n",
       "    !,\n",
       "    compound_name_arguments(Goal, Name, Args0),\n",
       "    '$append'(Args0, Extra, Args),\n",
       "    compound_name_arguments(G, Name, Args),\n",
       "    call(M:G).\n",
       "'$apply':apply(_:Goal, _Extra) :-\n",
       "    '$type_error'(callable, Goal).\n",
       "\n",
       "%   NOTE: system definition has been overruled for apply/2\n",
       ":- dynamic apply/2.\n",
       "\n",
       "apply(A, B) :-\n",
       "    call(A, B).\n"
      ]
     },
     "metadata": {
      "application/json": {}
     },
     "output_type": "display_data"
    },
    {
     "data": {
      "text/plain": [
       "% Asserting clauses for user:apply/2\n"
      ]
     },
     "metadata": {},
     "output_type": "display_data"
    },
    {
     "data": {
      "text/plain": [
       "\u001b[1mtrue"
      ]
     },
     "metadata": {},
     "output_type": "display_data"
    }
   ],
   "source": [
    "apply(P, Xs) :- Goal =.. [P|Xs], Goal.\n",
    "\n",
    "?- has_property([[1, 2], [1, 3]], <)."
   ]
  },
  {
   "cell_type": "markdown",
   "metadata": {},
   "source": [
    "## １９章　メタ・インタプリタ"
   ]
  },
  {
   "cell_type": "markdown",
   "metadata": {},
   "source": [
    "### 19.1 簡単なメタ・インタプリタ\n",
    "Pure(純)Prologのメタ・インタプリタをリスト19.1に合わせて実行してみました。\n",
    "\n",
    "solve(ture).がうまく動作せず、カットオペレータを挿入することで対処しました。またmemberも組み込みを使うと動作せず、p63にあるappendを使ったmemberで代用しました。"
   ]
  },
  {
   "cell_type": "code",
   "execution_count": 40,
   "metadata": {},
   "outputs": [
    {
     "data": {
      "text/html": [
       "\n",
       "            <style>\n",
       "            details  {\n",
       "              font-family: Menlo, Consolas, 'DejaVu Sans Mono', monospace; font-size: 13px;\n",
       "            }\n",
       "\n",
       "            details > summary {\n",
       "              cursor: pointer;\n",
       "            }\n",
       "            </style>\n",
       "            <details><summary>Previously defined clauses of user:solve/1 were retracted (click to expand)</summary><pre>:- dynamic solve/1.\n",
       "\n",
       "solve(true) :-\n",
       "    !.\n",
       "solve((A, B)) :-\n",
       "    solve(A),\n",
       "    solve(B).\n",
       "solve(A) :-\n",
       "    clause(A, B),\n",
       "    solve(B).\n",
       "</pre></details>"
      ],
      "text/plain": [
       "Previously defined clauses of user:solve/1 were retracted:\n",
       ":- dynamic solve/1.\n",
       "\n",
       "solve(true) :-\n",
       "    !.\n",
       "solve((A, B)) :-\n",
       "    solve(A),\n",
       "    solve(B).\n",
       "solve(A) :-\n",
       "    clause(A, B),\n",
       "    solve(B).\n"
      ]
     },
     "metadata": {
      "application/json": {}
     },
     "output_type": "display_data"
    },
    {
     "data": {
      "text/plain": [
       "% Asserting clauses for user:solve/1\n"
      ]
     },
     "metadata": {},
     "output_type": "display_data"
    },
    {
     "data": {
      "text/html": [
       "\n",
       "            <style>\n",
       "            details  {\n",
       "              font-family: Menlo, Consolas, 'DejaVu Sans Mono', monospace; font-size: 13px;\n",
       "            }\n",
       "\n",
       "            details > summary {\n",
       "              cursor: pointer;\n",
       "            }\n",
       "            </style>\n",
       "            <details><summary>Previously defined clauses of user:member2/2 were retracted (click to expand)</summary><pre>:- dynamic member2/2.\n",
       "\n",
       "member2(A, B) :-\n",
       "    append(_, [A|_], B).\n",
       "</pre></details>"
      ],
      "text/plain": [
       "Previously defined clauses of user:member2/2 were retracted:\n",
       ":- dynamic member2/2.\n",
       "\n",
       "member2(A, B) :-\n",
       "    append(_, [A|_], B).\n"
      ]
     },
     "metadata": {
      "application/json": {}
     },
     "output_type": "display_data"
    },
    {
     "data": {
      "text/plain": [
       "% Asserting clauses for user:member2/2\n"
      ]
     },
     "metadata": {},
     "output_type": "display_data"
    }
   ],
   "source": [
    "%solve(true).\n",
    "solve(true) :- !.\n",
    "solve((A, B)) :- solve(A), solve(B).\n",
    "solve(A) :- clause(A, B), solve(B).\n",
    "% memberだとうまく動かなかった。\n",
    "member2(X, Ys) :- append(As, [X|Xs], Ys)."
   ]
  },
  {
   "cell_type": "markdown",
   "metadata": {},
   "source": [
    "Pure Prologの動かしてみます。[a, b, c]のメンバーが順番に出力されます。"
   ]
  },
  {
   "cell_type": "code",
   "execution_count": 41,
   "metadata": {},
   "outputs": [
    {
     "data": {
      "text/plain": [
       "\u001b[1mX = a"
      ]
     },
     "metadata": {},
     "output_type": "display_data"
    },
    {
     "data": {
      "text/plain": [
       "% Retrying goal: solve(member2(X,[a,b,c]))\n"
      ]
     },
     "metadata": {},
     "output_type": "display_data"
    },
    {
     "data": {
      "text/plain": [
       "\u001b[1mX = b"
      ]
     },
     "metadata": {},
     "output_type": "display_data"
    },
    {
     "data": {
      "text/plain": [
       "% Retrying goal: solve(member2(X,[a,b,c]))\n"
      ]
     },
     "metadata": {},
     "output_type": "display_data"
    },
    {
     "data": {
      "text/plain": [
       "\u001b[1mX = c"
      ]
     },
     "metadata": {},
     "output_type": "display_data"
    }
   ],
   "source": [
    "?- solve(member2(X, [a, b, c])).\n",
    "?- retry.\n",
    "?- retry."
   ]
  },
  {
   "cell_type": "markdown",
   "metadata": {},
   "source": [
    "### Pure Prologの証明木の構築\n",
    "Pure Prologの実行時の証明木を構築するを試してみます。Pure Prologと同様にsolve(true, true).にはカットオペレータを追加しました。"
   ]
  },
  {
   "cell_type": "code",
   "execution_count": null,
   "metadata": {},
   "outputs": [],
   "source": [
    "solve(true, true) :- !.\n",
    "solve((A, B), (ProofA, ProofB)) :- solve(A, ProofA), solve(B, ProofB).\n",
    "solve(A, (A :- ProofB)) :- clause(A, B), solve(B, ProofB)."
   ]
  },
  {
   "cell_type": "markdown",
   "metadata": {},
   "source": [
    "息子(son)を確認する例で試してみます。"
   ]
  },
  {
   "cell_type": "code",
   "execution_count": null,
   "metadata": {},
   "outputs": [],
   "source": [
    "son(X, Y) :- father(Y, X), male(X)."
   ]
  },
  {
   "cell_type": "markdown",
   "metadata": {},
   "source": [
    "そのまま実行するとtrueとのみ出力されます。"
   ]
  },
  {
   "cell_type": "code",
   "execution_count": null,
   "metadata": {},
   "outputs": [],
   "source": [
    "?- son(lot, haran)."
   ]
  },
  {
   "cell_type": "markdown",
   "metadata": {},
   "source": [
    "証明木構築版のsolveを実行すると、son(lot, haran)の実行過程の証明木の構築過程が出力され、分かりやすいです。"
   ]
  },
  {
   "cell_type": "code",
   "execution_count": null,
   "metadata": {},
   "outputs": [],
   "source": [
    "?- solve(son(lot, haran), Proof)."
   ]
  },
  {
   "cell_type": "markdown",
   "metadata": {},
   "source": [
    "### 完全版Prologメタ・インタプリタ\n",
    "簡易版のPrologメタインタプリタに、否定、２階プログラミング用の述語、カットオペレータ、およびシステム述語を追加した完全版Prologメタ・インタプリタにアップグレードします。\n",
    "\n",
    "理由はわからないですが、前出のsolveとコンフリクトしているのかエラーとなってしまうため、solve_proof.ipynbにて実行しました。"
   ]
  },
  {
   "cell_type": "markdown",
   "metadata": {},
   "source": [
    "### トレーサ\n",
    "本物のtraceと名前が衝突するので、以下ではtrace2として実装します。"
   ]
  },
  {
   "cell_type": "code",
   "execution_count": null,
   "metadata": {},
   "outputs": [],
   "source": [
    "trace2(Goal) :- trace2(Goal, 0).\n",
    "%trace2(true, Depth).\n",
    "trace2(true, Depth) :- !.\n",
    "trace2((A, B), Depth) :- trace2(A, Depth), trace2(B, Depth).\n",
    "trace2(A, Depth) :-\n",
    "    clause(A, B),\n",
    "    display2(A, Depth),\n",
    "    Depth1 is Depth + 1,\n",
    "    trace2(B, Depth1).\n",
    "display2(A, Depth) :-\n",
    "    tab(Depth), write(A), nl.\n"
   ]
  },
  {
   "cell_type": "code",
   "execution_count": null,
   "metadata": {},
   "outputs": [],
   "source": [
    "?- trace2(member2(X, [a, b, c])).\n",
    "?- retry.\n",
    "?- retry."
   ]
  },
  {
   "cell_type": "markdown",
   "metadata": {},
   "source": [
    "### エキスパート・システム用改良メタ・インタプリタ\n",
    "例）オーブン内の配置に関するエキスパートシステム\n",
    "\n",
    "pastryは、「焼き物」の意味です。"
   ]
  },
  {
   "cell_type": "code",
   "execution_count": 33,
   "metadata": {},
   "outputs": [
    {
     "data": {
      "text/plain": [
       "% Asserting clauses for user:place_in_oven/2\n"
      ]
     },
     "metadata": {},
     "output_type": "display_data"
    },
    {
     "data": {
      "text/plain": [
       "% Asserting clauses for user:pastry/1\n"
      ]
     },
     "metadata": {},
     "output_type": "display_data"
    },
    {
     "data": {
      "text/plain": [
       "% Asserting clauses for user:main_meal/1\n"
      ]
     },
     "metadata": {},
     "output_type": "display_data"
    },
    {
     "data": {
      "text/plain": [
       "% Asserting clauses for user:slow_cooker/1\n"
      ]
     },
     "metadata": {},
     "output_type": "display_data"
    }
   ],
   "source": [
    "place_in_oven(Dish, top) :-\n",
    "    pastry(Dish), size(Dish, small).\n",
    "place_in_oven(Dish, middle) :-\n",
    "    pastry(Dish), size(Dish, big).\n",
    "place_in_oven(Dish, middle) :-\n",
    "    main_male(Dish).\n",
    "place_in_oven(Dish, low) :-\n",
    "    slow_cooker(Dish).\n",
    "pastry(Dish) :- type(Dish, cake).\n",
    "pastry(Dish) :- type(Dish, bread).\n",
    "main_meal(Dish) :- type(Dish, meat).\n",
    "slow_cooker(Dish) :- type(Dish, milk_pudding)."
   ]
  },
  {
   "cell_type": "code",
   "execution_count": 35,
   "metadata": {},
   "outputs": [
    {
     "data": {
      "text/plain": [
       "% Asserting clauses for user:known/1\n"
      ]
     },
     "metadata": {},
     "output_type": "display_data"
    }
   ],
   "source": [
    "known(A) :- A."
   ]
  },
  {
   "cell_type": "code",
   "execution_count": 37,
   "metadata": {},
   "outputs": [
    {
     "data": {
      "text/plain": [
       "Warning: Using a non-error value for unknown in the global module\n",
       "Warning: causes most of the development environment to stop working.\n",
       "Warning: Please use :- dynamic or limit usage of unknown to a module.\n",
       "Warning: See https://www.swi-prolog.org/howto/database.html"
      ]
     },
     "metadata": {},
     "output_type": "display_data"
    },
    {
     "data": {
      "text/plain": [
       "\u001b[1mtrue"
      ]
     },
     "metadata": {},
     "output_type": "display_data"
    },
    {
     "data": {
      "text/plain": [
       "\u001b[1;31mfalse"
      ]
     },
     "metadata": {},
     "output_type": "display_data"
    }
   ],
   "source": [
    "?- set_prolog_flag(unknown, fail).\n",
    "?- known(type(dish1, cake))."
   ]
  },
  {
   "cell_type": "markdown",
   "metadata": {},
   "source": [
    "## デバッグ\n",
    "19.3節のメタ・インタプリタを使ったデバッグ手法は、とても有益です。\n",
    "- 停止しないバグ\n",
    "- 嘘（偽）の解を返すバグ\n",
    "- 解を返すことに失敗したバグ\n"
   ]
  },
  {
   "cell_type": "markdown",
   "metadata": {},
   "source": [
    "### 無限ループ\n",
    "無限ループ（スタックオーバフロー）でエラーになる場合の対処方法としてメタ・インタプリタ（solve）にオーバフローのチェックを入れる例が紹介されている。\n",
    "\n",
    "prologのスタックオーバフローの原因は、再帰処理が延々と続くときであり、clauseで分解されたHeadとTailの分解回数Dを元にオーバフローを検出しするものです。この時、補助情報として処理の途中経過をoverflows内の配列に保持します。\n",
    "```prolog\n",
    "solve(A) :- clause(A, B), solve(B).\n",
    "```\n",
    "これを以下の様に変更します。\n",
    "```prolog\n",
    "solve(A, D, Overflow) :-\n",
    "    D > 0,\n",
    "    clause(A, B),\n",
    "    D is D - 1,\n",
    "    solve(B, D1, OverflowB),\n",
    "    return_overflow(OverflowB, A, Overflow).\n",
    "```\n",
    "return_overflowでSystem(X)以外の処理をoverflows(S)のSに追加していきます。"
   ]
  },
  {
   "cell_type": "code",
   "execution_count": null,
   "metadata": {},
   "outputs": [],
   "source": [
    "system(A := B).         system(A < B).\n",
    "system(A > B).          system(A >= B).\n",
    "system(read(X)).        system(write(X)).\n",
    "system(integer(X)).     system(functor(T, F, N)).\n",
    "system(clause(A, B)).   system(system(X)).\n",
    "system(A is B).         system(writeln(X)).\n",
    "system(not(A)).  "
   ]
  },
  {
   "cell_type": "code",
   "execution_count": null,
   "metadata": {},
   "outputs": [],
   "source": [
    "solveD(true, D, no_overflow) :- !.\n",
    "solveD(A, 0, overflow([])).\n",
    "solveD((A, B), D, Overflow) :-\n",
    "    D > 0,\n",
    "    solveD(A, D, OverflowA),\n",
    "    solve_conjunction(OverflowA, B, D, Overflow).\n",
    "solveD(A, D, Overflow) :-\n",
    "    D > 0,\n",
    "    % clause(2 < 2, B)でエラーになるため、clause(A, B)の前にnot(system(A))を挿入\n",
    "    not(system(A)),\n",
    "    clause(A, B),\n",
    "    D1 is D - 1,\n",
    "    solveD(B, D1, OverflowB),\n",
    "    return_overflow(OverflowB, A, Overflow).\n",
    "solveD(A, D, no_overflow) :-\n",
    "    D > 0,\n",
    "    system(A), A.\n",
    "solve_conjunction(overflow(S), B, D, overflow(S)).\n",
    "solve_conjunction(no_overflow, B, D, Overflow) :-\n",
    "    solveD(B, D, Overflow).\n",
    "return_overflow(no_overflow, A, no_overflow).\n",
    "return_overflow(overflow(S), A, overflow([A|S]))."
   ]
  },
  {
   "cell_type": "markdown",
   "metadata": {},
   "source": [
    "### 停止しない挿入isort\n",
    "確認のために停止しないisortを定義します。\n"
   ]
  },
  {
   "cell_type": "code",
   "execution_count": null,
   "metadata": {},
   "outputs": [],
   "source": [
    "% 停止しないソート\n",
    "isort([X|Xs], Ys) :- isort(Xs, Zs), insert(X, Zs, Ys).\n",
    "isort([], []).\n",
    "insert(X, [Y|Ys], [X, Y|Ys]) :-\n",
    "    X < Y.\n",
    "insert(X, [Y|Ys], [Y|Zs]) :-\n",
    "    X  >= Y, insert(Y, [X|Ys], Zs).\n",
    "insert(X, [], [X])."
   ]
  },
  {
   "cell_type": "markdown",
   "metadata": {},
   "source": [
    "無限ループするisortを実行してみます。"
   ]
  },
  {
   "cell_type": "code",
   "execution_count": null,
   "metadata": {},
   "outputs": [],
   "source": [
    "%?- isort([2, 2], Xs)."
   ]
  },
  {
   "cell_type": "code",
   "execution_count": null,
   "metadata": {},
   "outputs": [],
   "source": [
    "?- solveD(isort([2, 2], Xs), 6, Overflow)."
   ]
  },
  {
   "cell_type": "markdown",
   "metadata": {},
   "source": [
    "Overflowのinsert(2, [2], ...)同じ入力(2, [2])で繰り返し呼び出されています。\n",
    "\n",
    "```prolog\n",
    "Xs = [2,2,2,2,2,2],\n",
    "Overflow = overflow([\n",
    "    isort([2,2],[2,2,2,2,2,2]),\n",
    "    insert(2,[2],[2,2,2,2,2,2]),\n",
    "    insert(2,[2],[2,2,2,2,2]),\n",
    "    insert(2,[2],[2,2,2,2]),\n",
    "    insert(2,[2],[2,2,2]),\n",
    "    insert(2,[2],[2,2])])\n",
    "```"
   ]
  },
  {
   "cell_type": "markdown",
   "metadata": {},
   "source": [
    "プログラム19.12のままｍだとclause(2 < 2, B)でエラーになるため、clause(A, B)の前にnot(system(A))を挿入しました。"
   ]
  },
  {
   "cell_type": "code",
   "execution_count": null,
   "metadata": {},
   "outputs": [],
   "source": [
    "%?- clause(2 < 2, B)."
   ]
  },
  {
   "cell_type": "markdown",
   "metadata": {},
   "source": [
    "### 偽な解への対応\n"
   ]
  },
  {
   "cell_type": "code",
   "execution_count": null,
   "metadata": {},
   "outputs": [],
   "source": [
    "solve(true, true).\n",
    "solve((A, B), (ProofA, ProofB)) :- \n",
    "    solve(A, ProofA), \n",
    "    solve(B, ProofB).\n",
    "solve(A, (A :- ProofB)) :- \n",
    "    not(system(A)),\n",
    "    clause(A, B), \n",
    "    solve(B, ProofB).\n",
    "solve(A, (A :- true)) :- system(A), !, A."
   ]
  },
  {
   "cell_type": "code",
   "execution_count": null,
   "metadata": {},
   "outputs": [],
   "source": [
    "false_solution(A, Clause) :- \n",
    "    solve(A, Proof),\n",
    "    false_clause(Proof, Clause).\n",
    "\n",
    "false_clause(true, ok).\n",
    "false_clause((A, B), Clause) :-\n",
    "    false_clause(A, ClauseA),\n",
    "    check_conjunction(ClauseA, B, Clause).\n",
    "false_clause((A :- B), Clause) :-\n",
    "    false_clause(B, ClauseB),\n",
    "    check_clause(ClauseB, A, B, Clause).\n",
    "\n",
    "check_conjunction(ok, B, Clause) :-\n",
    "    false_clause(B, Clause).\n",
    "check_conjunction((A :- B1), B, (A :- B1)).\n",
    "\n",
    "check_clause(ok, A, B, Clause) :-\n",
    "    query_goal(A, Answer),\n",
    "    check_answer(Answer, A, B, Clause).\n",
    "check_clause((A1 :- B1), A, B, (A1 :- B1)).\n",
    "\n",
    "check_answer(true, A, B, ok).\n",
    "check_answer(false, A, B, (A :- B1)) :- \n",
    "    extract_body(B, B1).\n",
    "\n",
    "extract_body(true, true).\n",
    "extract_body((A :- B), A).\n",
    "extract_body(((A :- B), Bs), (A, As)) :-\n",
    "    extract_body(Bs, As).\n",
    "\n",
    "query_goal(A, true) :- system(A).\n",
    "query_goal(Goal, Answer) :-\n",
    "    not(system(Goal)),\n",
    "    writeln(['Is the Goal', Goal, 'true?']),\n",
    "    read(Answer)."
   ]
  },
  {
   "cell_type": "code",
   "execution_count": null,
   "metadata": {},
   "outputs": [],
   "source": [
    "% 不完全な挿入ソート\n",
    "isort([X|Xs], Ys) :- isort(Xs, Zs), insert(X, Zs, Ys).\n",
    "isort([], []).\n",
    "insert(X, [Y|Ys], [X, Y|Ys]) :-\n",
    "    X >= Y.\n",
    "insert(X, [Y|Ys], [Y|Zs]) :-\n",
    "    X  > Y, insert(X, Ys, Zs).\n",
    "insert(X, [], [X])."
   ]
  },
  {
   "cell_type": "code",
   "execution_count": null,
   "metadata": {},
   "outputs": [],
   "source": [
    "?- isort([3, 2, 1], X)."
   ]
  },
  {
   "cell_type": "code",
   "execution_count": null,
   "metadata": {},
   "outputs": [],
   "source": [
    "?- solveD(false_solution(isort([3, 2, 1], X), C), 10, Overflow)."
   ]
  },
  {
   "cell_type": "markdown",
   "metadata": {},
   "source": [
    "```prolog\n",
    "Overflow = overflow([\n",
    "    false_solution(isort([3,2,1],X),C),solve(isort([3,2,1],X),(isort([3,2,1],X):-\n",
    "        (isort([2,1],[2,1]):-\n",
    "            (isort([1],[1]):-\n",
    "                (isort([],[]):-true),\n",
    "                (insert(1,[],[1]):-true)),\n",
    "                (insert(2,[1],[2,1]):-\n",
    "                    (2>=1:-_41162))),_40516)),\n",
    "                    solve((isort([2,1],[2,1]),\n",
    "                    insert(3,[2,1],X)),\n",
    "                    ((isort([2,1],[2,1]):-\n",
    "                        (isort([1],[1]):-\n",
    "                            (isort([],[]):-true),\n",
    "                            (insert(1,[],[1]):-true)),\n",
    "                            (insert(2,[1],[2,1]):-\n",
    "                                (2>=1:-_41162))),_40516)),\n",
    "                                solve(isort([2,1],[2,1]),\n",
    "                                (isort([2,1],[2,1]):-\n",
    "                                    (isort([1],[1]):-\n",
    "                                        (isort([],[]):-true),\n",
    "                                        (insert(1,[],[1]):-true)),\n",
    "                                        (insert(2,[1],[2,1]):-\n",
    "                                            (2>=1:-_41162)))),\n",
    "                                            solve((isort([1],[1]),\n",
    "                                            insert(2,[1],[2,1])),\n",
    "                                            ((isort([1],[1]):-\n",
    "                                                (isort([],[]):-true),(insert(1,[],[1]):-true)),(insert(2,[1],[2,1]):-(2>=1:-_41162)))),solve(insert(2,[1],[2,1]),(insert(2,[1],[2,1]):-(2>=1:-_41162))),solve(2>=1,(2>=1:-_41162)),(not(system(2>=1)),clause(2>=1,_41176),solve(_41176,_41162)),call((not(system(2>=1)),clause(2>=1,_41176),solve(_41176,_41162))),call((not(system(2>=1)),clause(2>=1,_41176),solve(_41176,_41162)))])\n",
    "```"
   ]
  },
  {
   "cell_type": "markdown",
   "metadata": {},
   "source": [
    "readがnotebookでは動かないみたい！"
   ]
  },
  {
   "cell_type": "code",
   "execution_count": 76,
   "metadata": {},
   "outputs": [],
   "source": [
    "%?- false_solution(isort([3, 2, 1], X), C)."
   ]
  },
  {
   "cell_type": "markdown",
   "metadata": {},
   "source": [
    "false_solution.plをターミナルウィンドウで実行します。\n",
    "insertの３番目の配列が昇順でない場合に、false.を入力すると、障害を発生した箇所でのXと節Cが表示されます。\n",
    "\n",
    "```bash\n",
    "% swipl false_solution.pl\n",
    "?- false_solution(isort([3, 2, 1], X), C).\n",
    "[Is the Goal,isort([],[]),true?]\n",
    "|: true.\n",
    "[Is the Goal,insert(1,[],[1]),true?]\n",
    "|: true.\n",
    "[Is the Goal,isort([1],[1]),true?]\n",
    "|: true.\n",
    "[Is the Goal,insert(2,[1],[2,1]),true?]\n",
    "|: false.\n",
    "\n",
    "X = [3, 2, 1],\n",
    "C =  (insert(2, [1], [2, 1]):-2>=1) .\n",
    "\n",
    "?- ctrl-D\n",
    "```"
   ]
  },
  {
   "cell_type": "markdown",
   "metadata": {},
   "source": [
    "## 23章　コンパイラ"
   ]
  },
  {
   "cell_type": "code",
   "execution_count": 1,
   "metadata": {},
   "outputs": [
    {
     "data": {
      "text/plain": [
       "% Asserting clauses for user:compile/2\n"
      ]
     },
     "metadata": {},
     "output_type": "display_data"
    }
   ],
   "source": [
    "compile(Tokens, ObjectCode) :-\n",
    "    parse(Tokens, Structure),\n",
    "    encode(Structure, Dictionary, Code),\n",
    "    assemble(Code, Dictionary, ObjectCode)."
   ]
  },
  {
   "cell_type": "markdown",
   "metadata": {},
   "source": [
    "### パーザの作成\n",
    "パーザは、プログラムを解析し、構文木を作成します。"
   ]
  },
  {
   "cell_type": "code",
   "execution_count": 2,
   "metadata": {},
   "outputs": [
    {
     "data": {
      "text/plain": [
       "% Asserting clauses for user:parse/2\n"
      ]
     },
     "metadata": {},
     "output_type": "display_data"
    },
    {
     "data": {
      "text/plain": [
       "% Asserting clauses for user:pl_program/3\n"
      ]
     },
     "metadata": {},
     "output_type": "display_data"
    }
   ],
   "source": [
    "parse(Source, Structure) :-\n",
    "    pl_program(Structure, Source, []).\n",
    "pl_program(S) --> [program], identifier(X), [';'], statement(S)."
   ]
  },
  {
   "cell_type": "markdown",
   "metadata": {},
   "source": [
    "```prolog\n",
    "pl_program(Structure, Source, [])\n",
    "```\n",
    "と呼ばれているのは、\"-->\" による限定節文法で本文の差分リストSource\\\\[]が以下の様にprologに変換されているためです。\n",
    "```prolog\n",
    "pl_program(Structure, Source, [])\n",
    "```\n",
    "これは、pl_programのリストを表示することで確認できます。"
   ]
  },
  {
   "cell_type": "code",
   "execution_count": 3,
   "metadata": {},
   "outputs": [
    {
     "data": {
      "text/plain": [
       ":- dynamic pl_program/3.\n",
       "\n",
       "pl_program(C, [program|A], E) :-\n",
       "    identifier(_, A, B),\n",
       "    B=[;|D],\n",
       "    statement(C, D, E).\n"
      ]
     },
     "metadata": {},
     "output_type": "display_data"
    },
    {
     "data": {
      "text/plain": [
       "\u001b[1mtrue"
      ]
     },
     "metadata": {},
     "output_type": "display_data"
    }
   ],
   "source": [
    "?- listing(pl_program)."
   ]
  },
  {
   "cell_type": "code",
   "execution_count": 4,
   "metadata": {},
   "outputs": [
    {
     "data": {
      "text/plain": [
       "% Asserting clauses for user:statement/3\n"
      ]
     },
     "metadata": {},
     "output_type": "display_data"
    },
    {
     "data": {
      "text/plain": [
       "% Asserting clauses for user:rest_statements/3\n"
      ]
     },
     "metadata": {},
     "output_type": "display_data"
    },
    {
     "data": {
      "text/plain": [
       "% Asserting clauses for user:expression/3\n"
      ]
     },
     "metadata": {},
     "output_type": "display_data"
    },
    {
     "data": {
      "text/plain": [
       "% Asserting clauses for user:arithmetic_op/3\n"
      ]
     },
     "metadata": {},
     "output_type": "display_data"
    },
    {
     "data": {
      "text/plain": [
       "% Asserting clauses for user:pl_constant/3\n"
      ]
     },
     "metadata": {},
     "output_type": "display_data"
    },
    {
     "data": {
      "text/plain": [
       "% Asserting clauses for user:identifier/3\n"
      ]
     },
     "metadata": {},
     "output_type": "display_data"
    },
    {
     "data": {
      "text/plain": [
       "% Asserting clauses for user:pl_integer/3\n"
      ]
     },
     "metadata": {},
     "output_type": "display_data"
    },
    {
     "data": {
      "text/plain": [
       "% Asserting clauses for user:test/3\n"
      ]
     },
     "metadata": {},
     "output_type": "display_data"
    },
    {
     "data": {
      "text/plain": [
       "% Asserting clauses for user:comparision_op/3\n"
      ]
     },
     "metadata": {},
     "output_type": "display_data"
    }
   ],
   "source": [
    "statement((S ; Ss)) -->\n",
    "    [begin], statement(S), rest_statements(Ss).\n",
    "statement(assign(X, V)) -->\n",
    "    identifier(X), [':='], expression(V).\n",
    "statement(if(T, S1, S2)) -->\n",
    "    [if], test(T), [then], statement(S1), [else], statement(S2).\n",
    "statement(while(T, S)) -->\n",
    "    [while], test(T), [do], statement(S).\n",
    "statement(read(X)) -->\n",
    "    [read], identifier(X).\n",
    "statement(write(X)) -->\n",
    "    [write], expression(X).\n",
    "\n",
    "rest_statements((S ; Ss)) --> \n",
    "    [';'], statement(S), rest_statements(Ss).\n",
    "rest_statements(void) --> [end].\n",
    "\n",
    "expression(X) --> pl_constant(X).\n",
    "expression(expr(Op, X, Y)) -->\n",
    "    pl_constant(X), arithmetic_op(Op), expression(Y).\n",
    "\n",
    "arithmetic_op('+') --> ['+'].\n",
    "arithmetic_op('-') --> ['-'].\n",
    "arithmetic_op('*') --> ['*'].\n",
    "arithmetic_op('/') --> ['/'].\n",
    "\n",
    "pl_constant(name(X)) --> identifier(X).\n",
    "pl_constant(number(X)) --> pl_integer(X).\n",
    "\n",
    "identifier(X) --> [X], { atom(X) }.\n",
    "pl_integer(X) --> [X], { integer(X) }.\n",
    "\n",
    "test(compare(Op, X, Y)) -->\n",
    "    expression(X), comparision_op(Op), expression(Y).\n",
    "\n",
    "comparision_op('=') --> ['='].\n",
    "comparision_op('<>') --> ['<>'].\n",
    "comparision_op('>') --> ['>'].\n",
    "comparision_op('<') --> ['<'].\n",
    "comparision_op('>=') --> ['>='].\n",
    "comparision_op('<=') --> ['<=']."
   ]
  },
  {
   "cell_type": "markdown",
   "metadata": {},
   "source": [
    "### エンコーダの作成\n",
    "エンコーダは、構文木からアセンブリ言語を出力します。"
   ]
  },
  {
   "cell_type": "code",
   "execution_count": 5,
   "metadata": {},
   "outputs": [
    {
     "data": {
      "text/plain": [
       "% Asserting clauses for user:encode/3\n"
      ]
     },
     "metadata": {},
     "output_type": "display_data"
    }
   ],
   "source": [
    "encode((X;Xs), D, (Y;Ys)) :-\n",
    "    encode(X, D, Y), encode(Xs, D, Ys).\n",
    "encode(void, D, no_op).\n",
    "encode(assign(Name, E), D, (Code; instr(store, Address))) :-\n",
    "    lookup(Name, D, Address), encode_expression(E, D, Code).\n",
    "encode(if(Test, Then, Else), D, (TestCode; ThenCode; instr(jump, L2); label(L1); ElseCode; label(L2))) :-\n",
    "    encode_test(Test, L1, D, TestCode),\n",
    "    encode(Then, D, ThenCode),\n",
    "    encode(Else, D, ElseCode).\n",
    "encode(while(Test, Do), D, (label(L1); TestCode; DoCode; instr(jump, L1); label(L2))) :-\n",
    "    encode_test(Test, L2, D, TestCode),\n",
    "    encode(Do, D, DoCode).\n",
    "encode(read(X), D, instr(read, Address)) :-\n",
    "    lookup(X, D, Address).\n",
    "encode(write(E), D, (Code; instr(write, 0))) :-\n",
    "    encode_expression(E, D, Code)."
   ]
  },
  {
   "cell_type": "code",
   "execution_count": 6,
   "metadata": {},
   "outputs": [
    {
     "data": {
      "text/plain": [
       "% Asserting clauses for user:encode_expression/3\n"
      ]
     },
     "metadata": {},
     "output_type": "display_data"
    },
    {
     "data": {
      "text/plain": [
       "% Asserting clauses for user:single_instruction/4\n"
      ]
     },
     "metadata": {},
     "output_type": "display_data"
    },
    {
     "data": {
      "text/plain": [
       "% Asserting clauses for user:single_operation/5\n"
      ]
     },
     "metadata": {},
     "output_type": "display_data"
    },
    {
     "data": {
      "text/plain": [
       "% Asserting clauses for user:op_code/3\n"
      ]
     },
     "metadata": {},
     "output_type": "display_data"
    }
   ],
   "source": [
    "encode_expression(number(C), D, instr(loadc, C)).\n",
    "encode_expression(name(X), D, instr(load, Address)) :-\n",
    "    lookup(X, D, Address).\n",
    "encode_expression(expr(Op, E1, E2), D, (Load; Instruction)) :-\n",
    "    single_instruction(Op, E2, D, Instruction),\n",
    "    encode_expression(E1, D, Load).\n",
    "encode_expression(expr(Op, E1, E2), D, Code) :-\n",
    "    not(single_instruction(Op, E2, D, Instruction)),\n",
    "    single_operation(Op, E1, D, E2Code, Code),\n",
    "    encode_expression(E2, D, E2Code).\n",
    "single_instruction(Op, number(C), D, instr(OpCode, C)) :-\n",
    "    literal_operation(Op, OpCode), lookup(X, D, A).\n",
    "single_instruction(Op, name(X), D, instr(OpCode, A)) :-\n",
    "    memory_operation(Op, OpCode),\n",
    "    lookup(X, D, A).\n",
    "single_operation(Op, E, D, Code, (Code; Instruction)) :-\n",
    "    commutative(Op),\n",
    "    single_instruction(Op, E, D, Instruction).\n",
    "single_operation(Op, E, D, Code, (Code; instr(store, Address); Load; instr(OpCode, Address))) :-\n",
    "    not(commutative(Op)),\n",
    "    lookup('temp', D, Address),\n",
    "    encode_expression(E, D, Load),\n",
    "    op_code(OP, E, OpCode).\n",
    "op_code(Op, number(C), OpCode) :- \n",
    "    literal_operation(Oop, OpCode).\n",
    "op_code(Op, name(X), OpCode) :-\n",
    "    memory_operation(Op, OpCode)."
   ]
  },
  {
   "cell_type": "code",
   "execution_count": 7,
   "metadata": {},
   "outputs": [
    {
     "data": {
      "text/plain": [
       "% Asserting clauses for user:literal_operation/2\n"
      ]
     },
     "metadata": {},
     "output_type": "display_data"
    },
    {
     "data": {
      "text/plain": [
       "% Asserting clauses for user:memory_operation/2\n"
      ]
     },
     "metadata": {},
     "output_type": "display_data"
    },
    {
     "data": {
      "text/plain": [
       "% Asserting clauses for user:commutative/1\n"
      ]
     },
     "metadata": {},
     "output_type": "display_data"
    },
    {
     "data": {
      "text/plain": [
       "% Asserting clauses for user:encode_test/4\n"
      ]
     },
     "metadata": {},
     "output_type": "display_data"
    },
    {
     "data": {
      "text/plain": [
       "% Asserting clauses for user:comparison_opcode/2\n"
      ]
     },
     "metadata": {},
     "output_type": "display_data"
    },
    {
     "data": {
      "text/plain": [
       "% Asserting clauses for user:lookup/3\n"
      ]
     },
     "metadata": {},
     "output_type": "display_data"
    }
   ],
   "source": [
    "literal_operation('+', addc).       memory_operation('+', add).\n",
    "literal_operation('-', subc).       memory_operation('-', sub).\n",
    "literal_operation('*', mulc).       memory_operation('*', mul).\n",
    "literal_operation('.', divc).       memory_operation('/', div).\n",
    "commutative('+').                   commutative('*').\n",
    "\n",
    "encode_test(compare(Op, E1, E2), Label, D, (Code; instr(OpCode, Label))) :-\n",
    "    comparison_opcode(Op, OpCode),\n",
    "    encode_expression(expr('-', E1, E2), D, Code).\n",
    "% 逆のオペコードを出力している\n",
    "comparison_opcode('=', jumpne).     comparison_opcode('<>', jumpeq).\n",
    "comparison_opcode('>', jumple).     comparison_opcode('>=', jumplt).\n",
    "comparison_opcode('<', jumpge).     comparison_opcode('<=', jumpgt).\n",
    "\n",
    "%swi-prologではインスタンス化されていない変数との比較は、@<を使用する\n",
    "lookup(Key, dict(Key, X, Left, Right), Value) :-\n",
    "    !, X = Value.\n",
    "lookup(Key, dict(Key1, X, Left, Right), Value) :-\n",
    "    Key @< Key1, lookup(Key, Left, Value).\n",
    "lookup(Key, dict(Key1, X, Left, Right), Value) :-\n",
    "    Key1 @< Key, lookup(Key, Right, Value).\n"
   ]
  },
  {
   "cell_type": "markdown",
   "metadata": {},
   "source": [
    "### アセンブラの作成\n",
    "アセンブラは、アセンブリ言語をマシン命令に変換します。"
   ]
  },
  {
   "cell_type": "code",
   "execution_count": 8,
   "metadata": {},
   "outputs": [
    {
     "data": {
      "text/plain": [
       "% Asserting clauses for user:assemble/3\n"
      ]
     },
     "metadata": {},
     "output_type": "display_data"
    },
    {
     "data": {
      "text/plain": [
       "% Asserting clauses for user:tidy_and_count/5\n"
      ]
     },
     "metadata": {},
     "output_type": "display_data"
    },
    {
     "data": {
      "text/plain": [
       "% Asserting clauses for user:allocate/3\n"
      ]
     },
     "metadata": {},
     "output_type": "display_data"
    }
   ],
   "source": [
    "assemble(Code, Dictionary, TidyCode) :-\n",
    "    tidy_and_count(Code, 1, N, TidyCode, (instr(halt, 0); block(L))),\n",
    "    N1 is N + 1,\n",
    "    allocate(Dictionary, N1, N2),\n",
    "    L is N2 - N1, !.\n",
    "tidy_and_count((Code1; Code2), M, N, TCode1, TCode2) :-\n",
    "    tidy_and_count(Code1, M, M1, TCode1, Rest),\n",
    "    tidy_and_count(Code2, M1, N, Rest, TCode2).\n",
    "tidy_and_count(instr(X, Y), N, N1, (instr(X, Y); Code), Code) :-\n",
    "    N1 is N + 1.\n",
    "tidy_and_count(label(N), N, N, Code, Code).\n",
    "tidy_and_count(no_op, N, N, Code, Code).\n",
    "allocate(void, N, N).\n",
    "allocate(dict(Name, N1, Before, After), N0, N) :-\n",
    "    allocate(Before, N0, N1),\n",
    "    N2 is N1 + 1,\n",
    "    allocate(After, N2, N)."
   ]
  },
  {
   "cell_type": "markdown",
   "metadata": {},
   "source": [
    "### 動作確認\n",
    "最初はもっとも単純な文法で動きを確認します。\n",
    "\n",
    "```Pascal\n",
    "program test0;\n",
    "begin\n",
    "    x := 1\n",
    "end\n",
    "```"
   ]
  },
  {
   "cell_type": "code",
   "execution_count": 9,
   "metadata": {},
   "outputs": [
    {
     "data": {
      "text/plain": [
       "\u001b[1mS = assign(x,number(1));void"
      ]
     },
     "metadata": {},
     "output_type": "display_data"
    }
   ],
   "source": [
    "?- parse([program, test0, ';', begin, x, ':=', 1, end], S)."
   ]
  },
  {
   "cell_type": "markdown",
   "metadata": {},
   "source": [
    "parseで失敗する場合は、末端の非終端記号pl_constantから遡って、動作を確認するとエラー箇所が掴みやすいです。"
   ]
  },
  {
   "cell_type": "code",
   "execution_count": 10,
   "metadata": {},
   "outputs": [
    {
     "data": {
      "text/plain": [
       "\u001b[1mS = number(1)"
      ]
     },
     "metadata": {},
     "output_type": "display_data"
    }
   ],
   "source": [
    "?- pl_constant(S, [1], [])."
   ]
  },
  {
   "cell_type": "markdown",
   "metadata": {},
   "source": [
    "次に、エンコーダ、アセンブラに繋いでみます。"
   ]
  },
  {
   "cell_type": "code",
   "execution_count": 11,
   "metadata": {},
   "outputs": [
    {
     "data": {
      "text/plain": [
       "\u001b[1mS = assign(x,number(1));void,\n",
       "Dict = dict(x,4,void,void),\n",
       "RCode = (instr(loadc,1);instr(store,4));no_op,\n",
       "OpCode = instr(loadc,1);instr(store,4);instr(halt,0);block(1)"
      ]
     },
     "metadata": {},
     "output_type": "display_data"
    }
   ],
   "source": [
    "?- parse([program, test0, ';', begin, x, ':=', 1, end], S), encode(S, Dict, RCode), assemble(RCode, Dict, OpCode)."
   ]
  },
  {
   "cell_type": "markdown",
   "metadata": {},
   "source": [
    "### swi-prolog固有の問題\n",
    "途中、lookupのatomの比較で期待通りに動作しなく、その原因がインスタンス化されていない変数との比較によるものと\n",
    "判明し、lookup定義を修正しました。\n",
    "\n",
    "```prolog\n",
    "lookup(Key, dict(Key, X, Left, Right), Value) :-\n",
    "    !, X = Value.\n",
    "lookup(Key, dict(Key1, X, Left, Right), Value) :-\n",
    "    Key @< Key1, lookup(Key, Left, Value).\n",
    "lookup(Key, dict(Key1, X, Left, Right), Value) :-\n",
    "    Key1 @< Key, lookup(Key, Right, Value).\n",
    "```"
   ]
  },
  {
   "cell_type": "code",
   "execution_count": 12,
   "metadata": {},
   "outputs": [
    {
     "data": {
      "text/plain": [
       "\u001b[1mD = dict(x,V1,_28934,dict(y,V2,_28944,_28946)),\n",
       "V3 = V1,\n",
       "V4 = V2"
      ]
     },
     "metadata": {},
     "output_type": "display_data"
    }
   ],
   "source": [
    "?- lookup(x, D, V1), lookup(y, D, V2), lookup(x, D, V3), lookup(y, D, V4)."
   ]
  },
  {
   "cell_type": "markdown",
   "metadata": {},
   "source": [
    "### テキストの例題の動作確認\n",
    "次に、23章で紹介されている例題をコンパイルしてみます。\n",
    "\n",
    "最初にtest1をコンパイルします。"
   ]
  },
  {
   "cell_type": "code",
   "execution_count": 13,
   "metadata": {},
   "outputs": [
    {
     "data": {
      "text/plain": [
       "\u001b[1mS = write(expr(+,name(x),expr(-,name(y),expr(/,name(z),number(2)))));void,\n",
       "Dict = dict(x,12,dict(temp,11,void,void),dict(y,13,void,dict(z,14,void,void))),\n",
       "RCode = ((((instr(loadc,2);instr(store,11);instr(load,14);instr(add,11));instr(store,11);instr(load,13);instr(add,11));instr(add,12));instr(write,0));no_op,\n",
       "OpCode = instr(loadc,2);instr(store,11);instr(load,14);instr(add,11);instr(store,11);instr(load,13);instr(add,11);instr(add,12);instr(write,0);instr(halt,0);block(4)"
      ]
     },
     "metadata": {},
     "output_type": "display_data"
    }
   ],
   "source": [
    "?- parse([program, test1, ';', begin, write, x, '+', y, '-', z, '/', 2, end], S), encode(S, Dict, RCode), assemble(RCode, Dict, OpCode)."
   ]
  },
  {
   "cell_type": "markdown",
   "metadata": {},
   "source": [
    "次に、test2をコンパイルします。"
   ]
  },
  {
   "cell_type": "code",
   "execution_count": 14,
   "metadata": {},
   "outputs": [
    {
     "data": {
      "text/plain": [
       "\u001b[1mS = if(compare(>,name(a),name(b)),assign(max,name(a)),assign(max,name(b)));void,\n",
       "Dict = dict(b,11,dict(a,10,void,void),dict(max,12,void,void)),\n",
       "RCode = (((instr(load,10);instr(sub,11));instr(jumple,7));(instr(load,10);instr(store,12));instr(jump,9);label(7);(instr(load,11);instr(store,12));label(9));no_op,\n",
       "OpCode = instr(load,10);instr(sub,11);instr(jumple,7);instr(load,10);instr(store,12);instr(jump,9);instr(load,11);instr(store,12);instr(halt,0);block(3)"
      ]
     },
     "metadata": {},
     "output_type": "display_data"
    }
   ],
   "source": [
    "?- parse([program, test2, ';', begin, if, a, '>', b, then, max, ':=', a, else, max, ':=', b, end], S), encode(S, Dict, RCode), assemble(RCode, Dict, OpCode)."
   ]
  },
  {
   "cell_type": "markdown",
   "metadata": {},
   "source": [
    "最後に、test3をコンパイルします。"
   ]
  },
  {
   "cell_type": "code",
   "execution_count": 15,
   "metadata": {},
   "outputs": [
    {
     "data": {
      "text/plain": [
       "\u001b[1mS = read(value);assign(count,number(1));assign(result,number(1));while(compare(<,name(count),name(value)),(assign(count,expr(+,name(count),number(1)));assign(result,expr(*,name(result),name(count)));void));write(name(result));void,\n",
       "Dict = dict(value,21,dict(count,19,void,dict(result,20,void,void)),void),\n",
       "RCode = instr(read,21);(instr(loadc,1);instr(store,19));(instr(loadc,1);instr(store,20));(label(6);((instr(load,19);instr(sub,21));instr(jumpge,16));(((instr(load,19);instr(addc,1));instr(store,19));((instr(load,20);instr(mul,19));instr(store,20));no_op);instr(jump,6);label(16));(instr(load,20);instr(write,0));no_op,\n",
       "OpCode = instr(read,21);instr(loadc,1);instr(store,19);instr(loadc,1);instr(store,20);instr(load,19);instr(sub,21);instr(jumpge,16);instr(load,19);instr(addc,1);instr(store,19);instr(load,20);instr(mul,19);instr(store,20);instr(jump,6);instr(load,20);instr(write,0);instr(halt,0);block(3)"
      ]
     },
     "metadata": {},
     "output_type": "display_data"
    }
   ],
   "source": [
    "?- parse(\n",
    "    [program, factorial, ';',\n",
    "        begin,\n",
    "            read, value, ';',\n",
    "            count, ':=', 1, ';',\n",
    "            result, ':=', 1, ';',\n",
    "            while, count, '<', value, do,\n",
    "                begin,\n",
    "                    count, ':=', count, '+', 1, ';',\n",
    "                    result, ':=', result, '*', count,\n",
    "                end, ';',\n",
    "            write, result,\n",
    "        end], S), encode(S, Dict, RCode), assemble(RCode, Dict, OpCode)."
   ]
  },
  {
   "cell_type": "markdown",
   "metadata": {},
   "source": [
    "構文解析の結果を字下げをつけて読みやすくすると、\n",
    "```prolog\n",
    "read(value);assign(count,number(1));assign(result,number(1));\n",
    "    while(compare(<,name(count),name(value)),\n",
    "        (assign(count,expr(+,name(count),number(1)));\n",
    "        assign(result,expr(*,name(result),name(count)));void));\n",
    "        write(name(result));void\n",
    "```"
   ]
  },
  {
   "cell_type": "markdown",
   "metadata": {},
   "source": [
    "出力されたコードを読みやすくすると、以下の様になります。この出力が図23.3と対応しています。\n",
    "```text\n",
    "instr(read,21);\n",
    "instr(loadc,1);\n",
    "instr(store,19);\n",
    "instr(loadc,1);\n",
    "instr(store,20);\n",
    "instr(load,19);\n",
    "instr(sub,21);\n",
    "instr(jumpge,16);\n",
    "instr(load,19);\n",
    "instr(addc,1);\n",
    "instr(store,19);\n",
    "instr(load,20);\n",
    "instr(mul,19);\n",
    "instr(store,20);\n",
    "instr(jump,6);\n",
    "instr(load,20);\n",
    "instr(write,0);\n",
    "instr(halt,0);\n",
    "block(3)\n",
    "```"
   ]
  },
  {
   "cell_type": "code",
   "execution_count": null,
   "metadata": {},
   "outputs": [],
   "source": []
  }
 ],
 "metadata": {
  "kernelspec": {
   "display_name": "Prolog",
   "language": "prolog",
   "name": "prolog_kernel"
  },
  "language_info": {
   "codemirror_mode": "prolog",
   "file_extension": ".pl",
   "mimetype": "text/x-prolog",
   "name": "prolog"
  }
 },
 "nbformat": 4,
 "nbformat_minor": 2
}
