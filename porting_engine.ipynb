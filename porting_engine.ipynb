{
 "cells": [
  {
   "cell_type": "markdown",
   "metadata": {},
   "source": [
    "## 推論エンジンのpythonへの移植\n",
    "Steven John Metsker著「<a href=\"https://www.amazon.com/Building-Parsers-Java%C2%BF-Steven-Metsker/dp/0201719622\">JAVAによるサーバ構築技法（Building Parsers With Java）</a>」に付属している推論エンジンとパーサをpythonに移植しました。\n",
    "同ソースコードは、以下のURLで公開されていました（mavenでコンパイルできるようにしたもので著者以外の人による版と思われます）。\n",
    "- https://github.com/sujitpal/bpwj\n",
    "\n",
    "CDROMのreadme.txtによるとコードは自由に使ってよいと言うことでこれをベースにpythonにエンジンを移植していきます。\n",
    "```\n",
    "Copyright\n",
    "---------\n",
    "The code on the CD is free. It is copyrighted, so you may not claim that \n",
    "you wrote the code. Otherwise you may use the code as you wish.\n",
    "```\n",
    "\n",
    "エンジンのポーティングは、「JAVAによるサーバ構築技法」の12章をベースに行いました。\n",
    "この章の例題を移植したソースに適応して、動作を確認しながらポーティング作業を進めました。"
   ]
  },
  {
   "cell_type": "markdown",
   "metadata": {},
   "source": [
    "### 移植のポイント\n",
    "エンジンのメイン機能は、単一化（Unification）とバックトラック処理にあります。\n",
    "\n",
    "論理エンジンは、Structureクラスをベースとして作られています。\n",
    "構造（Structure）は、関数子（functor）と項（terms）の配列で構成されています。\n",
    "\n",
    "項を持たず、関数子だけをもつ構造をアトム（Atom）と呼びます。\n",
    "\n",
    "エンジンの最終的なポート結果は、engine.pyにあります。"
   ]
  },
  {
   "cell_type": "markdown",
   "metadata": {},
   "source": [
    "## Unificationの移植\n",
    "Javaのソースは、クラス毎に定義され、相互参照をしているため、Pythonで一つのファイルで定義するには、そのクラスがグローバルに定義されているものとしてコーディングする必要があります。\n",
    "\n",
    "最初に必要なライブラリをインポートします。\n",
    "\n",
    "```python\n",
    "import copy\n",
    "from collections import defaultdict\n",
    "import time\n",
    "```"
   ]
  },
  {
   "cell_type": "markdown",
   "metadata": {},
   "source": [
    "次にUnificationを移植します。bpwj/src/main/java/sjm/engine/にエンジン周りのJavaクラスが定義されています。\n",
    "\n",
    "Unification.javaをPythonに移植します。\n",
    "Javaソースのvectorをself._variablesとして実装しました。\n",
    "\n",
    "Unificationクラスは、変数（Variable）の単一化の結果を_variablesに保持します。\n"
   ]
  },
  {
   "cell_type": "markdown",
   "metadata": {},
   "source": [
    "Unificationクラスの移植では、クラス変数emptyの初期化をクラスインスタンス生成メソッド__new__の中で実装することです。\n",
    "\n",
    "```python\n",
    "class Unification():\n",
    "    empty = None\n",
    "    def __new__(cls, *args, **kargs):\n",
    "\n",
    "        if cls.empty == None:\n",
    "            cls.empty = super(Unification, cls).__new__(cls)\n",
    "            cls.empty._variables = []\n",
    "        return super(Unification, cls).__new__(cls)\n",
    "\n",
    "    def __init__(self, v = None):\n",
    "        self._variables = []\n",
    "        if v != None:\n",
    "            self.addVariable(v)\n",
    "```"
   ]
  },
  {
   "cell_type": "markdown",
   "metadata": {},
   "source": [
    "\n",
    "## Structureの移植\n",
    "Sturctureクラスのコンストラクターは、以下のようになります。\n",
    "\n",
    "```python\n",
    "class Structure:\n",
    "    # コンストラクター\n",
    "    def __init__(self, functor, terms = []):\n",
    "        self.functor = functor\n",
    "        self.terms = terms\n",
    "        if terms != None and len(terms) > 0:\n",
    "            self.terms = terms\n",
    "```\n",
    "\n",
    "これをjavaの定義と比較すると、javaでは複数のコンストラクターが定義できるのに対して、pythonでは__init__の１つしか定義できません。この点がpythoへの移植の厄介なところでした。\n",
    "```java\n",
    "public class Structure implements Term {\n",
    "\tprotected Object functor;\n",
    "\tprotected Term[] terms;\n",
    "\n",
    "    public Structure(Object functor) {\n",
    "        this(functor, new Term[0]);\n",
    "    }\n",
    "    public Structure(Object functor, Term[] terms) {\n",
    "        this.functor = functor;\n",
    "        this.terms = terms;\n",
    "    }    \n",
    "}\n",
    "```\n"
   ]
  },
  {
   "cell_type": "markdown",
   "metadata": {},
   "source": [
    "engine.pyからStructureクラスを抜粋します（コメントを除く）。\n",
    "\n",
    "ここで注目して欲しいのは、以下の３つです。\n",
    "- コンストラクター（__init__）\n",
    "- 単一化（unify）\n",
    "- 同一判定（__eq__）\n",
    "\n",
    "それと__str__は、インスタンスの表示の時に役に立つので、最初に実装するのがポイントです。また、一度にすべてのメソッドを実装するのではなく、最低限のメソッドから実装し、動作を確認しながら薦めると良いでしょう。"
   ]
  },
  {
   "cell_type": "markdown",
   "metadata": {},
   "source": [
    "```python\n",
    "class Structure:\n",
    "    # 以下抜粋\n",
    "    # コンストラクター\n",
    "    def __init__(self, functor, terms = []):      \n",
    "        self.functor = functor\n",
    "        self.terms = terms\n",
    "        if terms != None and len(terms) > 0:\n",
    "            self.terms = terms\n",
    "    # 単一化\n",
    "    def unify(self, s):\n",
    "        if isinstance(s, Structure):\n",
    "            if not self.functorAndArityEquals(s):\n",
    "                return None\n",
    "            u = Unification()\n",
    "            others = s.terms\n",
    "            for i in range(len(self.terms)):\n",
    "                subUnification = self.terms[i].unify(others[i])            \n",
    "                if subUnification == None:\n",
    "                    u.unbind()\n",
    "                    return None\n",
    "                u.append(subUnification)\n",
    "            return u\n",
    "        elif isinstance(s, Variable):\n",
    "            v = s\n",
    "            return v.unify(self)\n",
    "        else: # Term\n",
    "            t = s\n",
    "            return t.unify(self)\n",
    "    # 同一判定\n",
    "    def __eq__(self, o):       \n",
    "        if type(self) != type(o):\n",
    "            return False\n",
    "        s = o\n",
    "        if not self.functorAndArityEquals(s):\n",
    "            return False\n",
    "        for i in range(self.arity()):\n",
    "            if not self.terms[i].__eq__(s.terms[i]):\n",
    "                return False\n",
    "        return True\n",
    "```"
   ]
  },
  {
   "cell_type": "markdown",
   "metadata": {},
   "source": [
    "### 動作確認\n",
    "「JAVAによるサーバ構築技法」のすぐれたところは、クラスの定義と動作確認が実装されていることです。\n",
    "- src/main/java/sjm/examples/に動作確認用のクラスが定義されています。\n",
    "\n",
    "ShowStructure.javaをPythonに移植して動作を確認します。\n",
    "\n",
    "Structureを使ったAtomの例として、denver（デンバー）を定義すると以下のようになります。"
   ]
  },
  {
   "cell_type": "code",
   "execution_count": 1,
   "metadata": {},
   "outputs": [
    {
     "name": "stdout",
     "output_type": "stream",
     "text": [
      "denver\n"
     ]
    }
   ],
   "source": [
    "from engine import *\n",
    "\n",
    "denver = Structure(\"denver\")\n",
    "print(denver)"
   ]
  },
  {
   "cell_type": "markdown",
   "metadata": {},
   "source": [
    "構造を使ってcityの地名（Name）と標高（altitude）を定義すると、以下のようになります。"
   ]
  },
  {
   "cell_type": "code",
   "execution_count": 2,
   "metadata": {},
   "outputs": [
    {
     "name": "stdout",
     "output_type": "stream",
     "text": [
      "city(denver, 5280)\n"
     ]
    }
   ],
   "source": [
    "denver = Structure(\"denver\")\n",
    "alititude = Structure(5280)\n",
    "city = Structure(\"city\", [denver, alititude])\n",
    "print(city)"
   ]
  },
  {
   "cell_type": "markdown",
   "metadata": {},
   "source": [
    "## 変数(Variable)の移植\n",
    "\n",
    "次に変数（Variable）を移植します。\n",
    "\n",
    "ここでのポイントは以下のメソッドです。\n",
    "- コンストラクター（__init__）\n",
    "- 単一化（unify）\n",
    "- 単一化の解除（unbind）\n",
    "\n"
   ]
  },
  {
   "cell_type": "markdown",
   "metadata": {},
   "source": [
    "```python\n",
    "class Variable: \n",
    "    # 抜粋\n",
    "    def __init__(self, name):    \n",
    "        self.name = name\n",
    "        self.instantiation = None\n",
    "        self.id = f\"{name}_{str(time.time())}\"\n",
    "\n",
    "    def unify(self, s):     \n",
    "        structureCls = globals()['Structure']\n",
    "        if isinstance(s, Variable):\n",
    "            v = s\n",
    "            if self is v:\n",
    "                return Unification()\n",
    "            elif self.instantiation != None:\n",
    "                return self.instantiation.unify(v)\n",
    "            elif v.instantiation != None:\n",
    "                return v.instantiation.unify(self)\n",
    "            self.instantiation = v\n",
    "            return Unification(self)\n",
    "        elif isinstance(s, structureCls):\n",
    "            if self.instantiation != None:\n",
    "                return self.instantiation.unify(s)\n",
    "            self.instantiation = s\n",
    "            return Unification(self)\n",
    "        else: # Term\n",
    "            t = s\n",
    "            return t.unify(self)\n",
    "        \n",
    "    def __eq__(self, o):      \n",
    "        if not isinstance(o, Variable):\n",
    "            return False\n",
    "        v = o\n",
    "        if self.name != v.name:\n",
    "            return False\n",
    "        if self.instantiation == None:\n",
    "            return v.instantiation == None\n",
    "        return self.instantiation.__eq__(v.instantiation)\n",
    "```"
   ]
  },
  {
   "cell_type": "markdown",
   "metadata": {},
   "source": [
    "### 単一化（Unification）\n",
    "変数（Variable）の単一化の結果を保持するクラスがUnificationです。\n",
    "\n",
    "JAVAによるサーバ構築技法から単一化の方法をまとめると以下の通りです。\n",
    "- ２つの構造が単一化できるためには、両者が同じ関数子を持ち、項の数が等しく、\n",
    "対応する項同士が単一かできる必要がある\n",
    "- インスタンス化されていない変数を特定の構造に単一化すると、その構造が変数の値になる\n",
    "- インスタンス化された変数は、インスタンス値に単一化を依頼することで、自身の単一化を実行する\n",
    "\n",
    "先に作成した構造体cityと変数name, altの単一化をすると、各変数のinstance属性に構造体denverとalititudeがセットされていることを確かめてみましょう(ShowStructureUnification.javaの移植)。"
   ]
  },
  {
   "cell_type": "code",
   "execution_count": 3,
   "metadata": {},
   "outputs": [
    {
     "name": "stdout",
     "output_type": "stream",
     "text": [
      "city(Name, Altitude)\n"
     ]
    }
   ],
   "source": [
    "from engine import *\n",
    "\n",
    "# Variableの確認\n",
    "name = Variable(\"Name\")\n",
    "alt = Variable(\"Altitude\")\n",
    "vCity = Structure(\"city\", [name, alt])\n",
    "print(vCity)"
   ]
  },
  {
   "cell_type": "markdown",
   "metadata": {},
   "source": [
    "vCityに先に定義したcityをunifyメソッドを実行すると、vCityの構造体（Structure）の変数name, altにcityの値（denver, 5280）がそれぞれ単一化されます。"
   ]
  },
  {
   "cell_type": "code",
   "execution_count": 4,
   "metadata": {},
   "outputs": [
    {
     "name": "stdout",
     "output_type": "stream",
     "text": [
      "name=denver, alt=5280\n"
     ]
    }
   ],
   "source": [
    "vCity.unify(city)\n",
    "print(f\"name={str(name)}, alt={str(alt)}\")"
   ]
  },
  {
   "cell_type": "code",
   "execution_count": 5,
   "metadata": {},
   "outputs": [
    {
     "name": "stdout",
     "output_type": "stream",
     "text": [
      "denver\n",
      "5280\n"
     ]
    }
   ],
   "source": [
    "# 以下のコマンドをデバッガで実行すると、変数name, altに\n",
    "# セットされているinstatiationに構造cityのdenver, alititude\n",
    "# であることが確認できます。\n",
    "print(name.instantiation)\n",
    "print(alt.instantiation)"
   ]
  },
  {
   "cell_type": "markdown",
   "metadata": {},
   "source": [
    "デバッガ画面で、name.instantiationに構造(0x110e51930)がセットされ、それが構造(denver)であり、そのfunctorの値がdenverであることが確認できます。\n",
    "\n",
    "<img src=\"images/unification.png\">"
   ]
  },
  {
   "cell_type": "markdown",
   "metadata": {},
   "source": [
    "## Factの移植\n",
    "事実（Fact）は、変数を含まない構造（Struct）と説明されています。\n",
    "\n",
    "Factには、様々なコンストラクターが用意されており、事実の記述が簡単にできるように配慮されています。\n",
    "\n",
    "Javaのコンストラクターには、以下のメソッドが提供されています。\n",
    "\n",
    "- Fact(functor: Object)\n",
    "- Fact(functor: Object, term0: Object)\n",
    "- Fact(functor: Object, term0: Object, term1: Object)\n",
    "- Fact(functor: Object, terms[]: Object)\n",
    "- Fact(functor: Object, terms[]: Fact)\n",
    "\n",
    "これをpythonのコンストラクター（__init__）で以下のように定義しています。\n",
    "\n",
    "```python\n",
    "class Fact(Structure):    \n",
    "    def __init__(self, functor, *args):     \n",
    "        if len(args) == 0:\n",
    "            super().__init__(functor)\n",
    "        elif len(args) == 1:            \n",
    "            if isinstance(args[0], list):\n",
    "                first = args[0]\n",
    "                if len(first) > 0 and isinstance(first[0], Fact):\n",
    "                    super().__init__(functor, first)\n",
    "                else:\n",
    "                    atoms = [Atom(o) for o in first]\n",
    "                    super().__init__(functor, atoms)\n",
    "            elif isinstance(args[0], Fact):\n",
    "                super().__init__(functor, [args[0]])\n",
    "            else:\n",
    "                super().__init__(functor, [Atom(args[0])])\n",
    "        elif len(args) == 2:\n",
    "            o1 = args[0]\n",
    "            o2 = args[1]\n",
    "            if isinstance(o1, Atom):\n",
    "                super().__init__(functor, [o1, o2])\n",
    "            else:\n",
    "                super().__init__(functor, [Atom(o1), Atom(o2)])\n",
    "\n",
    "```"
   ]
  },
  {
   "cell_type": "markdown",
   "metadata": {},
   "source": [
    "### Factの動作確認\n",
    "Factの動作確認用にShowFactで定義されている処理をPythonで実行してみます。\n",
    "\n",
    "多様なコンストラクターの例となっています。"
   ]
  },
  {
   "cell_type": "code",
   "execution_count": 6,
   "metadata": {},
   "outputs": [
    {
     "name": "stdout",
     "output_type": "stream",
     "text": [
      "city(denver, 5280)\n",
      "city(jacksonville, 8)\n"
     ]
    }
   ],
   "source": [
    "from engine import *\n",
    "\n",
    "d = Fact(\"city\", [Fact(\"denver\"), Fact(5280)])\n",
    "j = Fact(\"city\", \"jacksonville\", 8)\n",
    "\n",
    "print(d)\n",
    "print(j)"
   ]
  },
  {
   "cell_type": "markdown",
   "metadata": {},
   "source": [
    "## ProgramとQueryの移植\n",
    "Prologでは、プログラム（Program）は公理が集まったものであり、公理は事実（Fact）と規則（Rule）のいずれかとされています。\n",
    "\n",
    "問い合わせ（Query）は、プログラムの公理を使って規則を証明するものです。\n",
    "\n",
    "ShowProgram.javaをPythonに移植して、動作をみてみましょう。\n",
    "\n",
    "### 問い合わせの実行\n",
    "問い合わせ（Query）に次の証明するものがあるかを検査するメソッドがcanFindNextProofです。"
   ]
  },
  {
   "cell_type": "code",
   "execution_count": 7,
   "metadata": {},
   "outputs": [
    {
     "name": "stdout",
     "output_type": "stream",
     "text": [
      "abilene is about 1718 feet above sea level.\n",
      "\"addis ababa\" is about 8000 feet above sea level.\n",
      "denver is about 5280 feet above sea level.\n",
      "flagstaff is about 6970 feet above sea level.\n",
      "jacksonville is about 8 feet above sea level.\n",
      "leadville is about 10200 feet above sea level.\n",
      "madrid is about 1305 feet above sea level.\n",
      "richmond is about 19 feet above sea level.\n",
      "spokane is about 1909 feet above sea level.\n",
      "wichita is about 1305 feet above sea level.\n"
     ]
    }
   ],
   "source": [
    "facts = [\n",
    "    Fact(\"city\",    \"abilene\",      1718),\n",
    "    Fact(\"city\",    \"addis ababa\",  8000),\n",
    "    Fact(\"city\",    \"denver\",       5280),\n",
    "    Fact(\"city\",    \"flagstaff\",    6970),\n",
    "    Fact(\"city\",    \"jacksonville\", 8),\n",
    "    Fact(\"city\",    \"leadville\",    10200),\n",
    "    Fact(\"city\",    \"madrid\",       1305),\n",
    "    Fact(\"city\",    \"richmond\",     19),\n",
    "    Fact(\"city\",    \"spokane\",      1909),\n",
    "    Fact(\"city\",    \"wichita\",      1305),\n",
    "]\n",
    "\n",
    "p = Program(facts)\n",
    "name = Variable(\"Name\")\n",
    "height = Variable(\"Height\")\n",
    "s = Structure(\"city\", [name, height])\n",
    "\n",
    "try:\n",
    "    q = Query(p, s)\n",
    "    while q.canFindNextProof():\n",
    "        print(f\"{name} is about {height} feet above sea level.\")\n",
    "except Exception as e:\n",
    "    print(e)\n",
    "\n"
   ]
  },
  {
   "cell_type": "markdown",
   "metadata": {},
   "source": [
    "## 証明\n",
    "問い合わせ（Query）による証明では、スコープ（Scope）に証明で使用する規則（Rule）で使われる変数をコピーし、管理しています。\n",
    "\n",
    "canFindNextProofでは、事実（Fact）に規則（Rule）を単一化し、変数に事実の情報をセットしていきます。この処理をすべての事実に繰り返し、失敗したら、ルールが成り立っている箇所まで戻り（バックトラック）ってルールが証明を繰り返します。\n",
    "\n",
    "exampleのShowProof.javaをPythonに移植して動作を確認します。"
   ]
  },
  {
   "cell_type": "code",
   "execution_count": 8,
   "metadata": {},
   "outputs": [],
   "source": [
    "facts = [\n",
    "    Fact(\"charge\", \"athens\", 23),\n",
    "    Fact(\"charge\", \"sparta\", 13),\n",
    "    Fact(\"charge\", \"milos\", 17),\n",
    "]\n",
    "charges = Program(facts)\n",
    "\n",
    "facts = [\n",
    "    Fact(\"customer\", \"Marathon Marble\", \"sparta\"),\n",
    "    Fact(\"customer\", \"Acropolis Construction\", \"athens\"),\n",
    "    Fact(\"customer\", \"Agora Imports\", \"sparta\"),\n",
    "]\n",
    "customers = Program(facts)\n",
    "\n",
    "p = Program()\n",
    "p.append(charges)\n",
    "p.append(customers)\n",
    "\n",
    "city = Variable(\"City\")\n",
    "fee = Variable(\"Fee\")\n",
    "name = Variable(\"Name\")\n",
    "s1 = Structure(\"charge\", [city, fee])\n",
    "s2 = Structure(\"customer\", [name, city])\n",
    "q = Query(p, [s1, s2])"
   ]
  },
  {
   "cell_type": "markdown",
   "metadata": {},
   "source": [
    "プログラム（Program）pと問い合わせ（Query）をプリントし、事実と問い合わせの規則をPrologとして表示します。 "
   ]
  },
  {
   "cell_type": "code",
   "execution_count": 9,
   "metadata": {},
   "outputs": [
    {
     "name": "stdout",
     "output_type": "stream",
     "text": [
      "charge(athens, 23);\n",
      "charge(sparta, 13);\n",
      "charge(milos, 17);\n",
      "customer(\"Marathon Marble\", sparta);\n",
      "customer(\"Acropolis Construction\", athens);\n",
      "customer(\"Agora Imports\", sparta);\n"
     ]
    }
   ],
   "source": [
    "print(p)"
   ]
  },
  {
   "cell_type": "code",
   "execution_count": 10,
   "metadata": {},
   "outputs": [
    {
     "name": "stdout",
     "output_type": "stream",
     "text": [
      "charge(City, Fee), customer(Name, City)\n"
     ]
    }
   ],
   "source": [
    "print(q)"
   ]
  },
  {
   "cell_type": "markdown",
   "metadata": {},
   "source": [
    "### 例題の実行\n",
    "この例題は、顧客（customer）の名前nameと住所（地名city）の一覧、運賃表（Charge）の地名cityと運賃Feeの一覧から、送り先（地名City）と運賃Fee、顧客の名前Nameを出力します。\n",
    "\n",
    "最初にcustomerの一覧から\n",
    "- customer(\"Acropolis Construction\", athens)に変数Name, Cityが単一化し、値がセットされます。\n",
    "\n",
    "次にchargeの一覧から地名city=athensと単一化する以下の事実から変数Feeに23がセットされます。\n",
    "- Charge(athens, 23)\n",
    "\n",
    "これをすべての事実を照会しながら、該当する結果を出力すると以下のようになります。"
   ]
  },
  {
   "cell_type": "code",
   "execution_count": 11,
   "metadata": {},
   "outputs": [
    {
     "name": "stdout",
     "output_type": "stream",
     "text": [
      "City: athens\n",
      "Fee: 23\n",
      "Name: \"Acropolis Construction\"\n",
      "City: sparta\n",
      "Fee: 13\n",
      "Name: \"Marathon Marble\"\n",
      "City: sparta\n",
      "Fee: 13\n",
      "Name: \"Agora Imports\"\n"
     ]
    }
   ],
   "source": [
    "try: \n",
    "    while q.canFindNextProof():\n",
    "        print(f\"City: {city}\")\n",
    "        print(f\"Fee: {fee}\")\n",
    "        print(f\"Name: {name}\") \n",
    "except Exception as e:\n",
    "    print(e)"
   ]
  },
  {
   "cell_type": "markdown",
   "metadata": {},
   "source": [
    "## 関数の追加\n",
    "Prologエンジンとして使用するために、いくつかの組み込み関数を追加しています。\n",
    "\n",
    "- 比較（>, <, = >=, <=, !=）\n",
    "- 算術（+, -, *, /, %）\n",
    "\n",
    "関数の場合、Getewayのサブクラスとして実装します。\n",
    "\n",
    "最初に比較の動作確認をShowComarison.javaを移植して、動作を確認します。"
   ]
  },
  {
   "cell_type": "code",
   "execution_count": 12,
   "metadata": {},
   "outputs": [
    {
     "name": "stdout",
     "output_type": "stream",
     "text": [
      "q1: True\n",
      "q2: False\n"
     ]
    }
   ],
   "source": [
    "alt1 = Atom(5280)\n",
    "alt2 = Atom(19)\n",
    "\n",
    "q1 = Query(None, Comparison(\">\", alt1, alt2))\n",
    "print(f\"q1: {q1.canFindNextProof()}\")\n",
    "\n",
    "q2 = Query(None, Comparison(\">\", Atom(\"denver\"), Atom(\"richmond\")))\n",
    "print(f\"q2: {q2.canFindNextProof()}\")"
   ]
  },
  {
   "cell_type": "markdown",
   "metadata": {},
   "source": [
    "算術関数は、比較で使われたComparisionTermのサブクラスArithmeticTermインタフェースを実装していますが、Pythonで直に必要なメソッドを追加しています。\n",
    "\n",
    "算術関数の動作確認は、ShowArithmetic.javaをPythonに移植して行います。"
   ]
  },
  {
   "cell_type": "code",
   "execution_count": 13,
   "metadata": {},
   "outputs": [
    {
     "name": "stdout",
     "output_type": "stream",
     "text": [
      "+(*(1000, 999), 999)\n",
      "999999\n"
     ]
    }
   ],
   "source": [
    "a = Fact(1000)\n",
    "b = Fact(999)\n",
    "x = ArithmeticOperator(\"*\", a, b)\n",
    "y = ArithmeticOperator(\"+\", x, b)\n",
    "\n",
    "print(y)\n",
    "print(y.eval())"
   ]
  },
  {
   "cell_type": "markdown",
   "metadata": {},
   "source": [
    "順番は前後しますが、評価（eval）は、第1引き数の変数に第2項の値を単一化する関数です。\n",
    "\n",
    "以下の例では、Evaluation(baby, diff)でdiffの結果を評価し変数babyに単一化しています。\n",
    "式を評価するには、式の証明（canFindNextProof）を依頼します。"
   ]
  },
  {
   "cell_type": "code",
   "execution_count": 14,
   "metadata": {},
   "outputs": [
    {
     "name": "stdout",
     "output_type": "stream",
     "text": [
      "#(Baby, -(YouAndBaby, You))\n",
      "#(Baby, -(199, 185))\n",
      "That baby weight about 14 pounds.\n"
     ]
    }
   ],
   "source": [
    "you = Variable(\"You\")\n",
    "youAndBaby = Variable(\"YouAndBaby\")\n",
    "baby = Variable(\"Baby\")\n",
    "\n",
    "diff = ArithmeticOperator(\"-\", youAndBaby, you)\n",
    "\n",
    "e = Evaluation(baby, diff)\n",
    "print(e)\n",
    "\n",
    "you.unify(Fact(185))\n",
    "youAndBaby.unify(Fact(199))\n",
    "print(e)\n",
    "\n",
    "e.canFindNextProof()\n",
    "print(f\"That baby weight about {baby} pounds.\")"
   ]
  },
  {
   "cell_type": "markdown",
   "metadata": {},
   "source": [
    "証明では、証明の結果を否定するNot機能があると便利です。\n",
    "\n",
    "ただし、Notの実装は少し複雑でNotを評価するためにConsultingNotクラスを作成し、Notの評価時にConsultingNotでラップするように実装しています。\n",
    "\n",
    "\n",
    "動作確認は、独身の男性を求めるプログラムです。"
   ]
  },
  {
   "cell_type": "code",
   "execution_count": 15,
   "metadata": {},
   "outputs": [
    {
     "name": "stdout",
     "output_type": "stream",
     "text": [
      "bachelor(X) :- male(X), not married(X);\n",
      "married(jim);\n",
      "male(jeremy);\n",
      "male(jim);\n",
      "jeremy is a bachelor\n"
     ]
    }
   ],
   "source": [
    "p = Program()\n",
    "x = Variable(\"X\")\n",
    "s0 = Structure(\"bachelor\", [x])\n",
    "s1 = Structure(\"male\", [x])\n",
    "s2 = Not(\"married\", [x])\n",
    "r0 = Rule([s0, s1, s2])\n",
    "p.addAxiom(r0)\n",
    "\n",
    "p.addAxiom(Fact(\"married\", \"jim\"))\n",
    "\n",
    "p.addAxiom(Fact(\"male\", \"jeremy\"))\n",
    "p.addAxiom(Fact(\"male\", \"jim\"))\n",
    "\n",
    "print(p)\n",
    "\n",
    "b = Variable(\"B\")\n",
    "q = Query(p, Structure(\"bachelor\", [b]))\n",
    "\n",
    "while q.canFindNextProof():\n",
    "    print(f\"{b} is a bachelor\")"
   ]
  },
  {
   "cell_type": "markdown",
   "metadata": {},
   "source": [
    "無名変数は、任意の項と単一化されます：項の値を問わず真となります。Prologではアンダスコア（_）で表します。"
   ]
  },
  {
   "cell_type": "code",
   "execution_count": 16,
   "metadata": {},
   "outputs": [
    {
     "name": "stdout",
     "output_type": "stream",
     "text": [
      "Id: 1, Husband: balthasar\n",
      "Id: 257, Husband: kevin\n"
     ]
    }
   ],
   "source": [
    "m1 = Fact(\"marriage\", [\n",
    "    1,\n",
    "    \"balthasar\",\n",
    "    \"grimedlda\",\n",
    "    14560512,\n",
    "    14880711\n",
    "])\n",
    "m257 = Fact(\"marriage\", [\n",
    "    257,\n",
    "    \"kevin\",\n",
    "    \"karla\",\n",
    "    19790623,\n",
    "    \"present\"\n",
    "])\n",
    "\n",
    "p = Program()\n",
    "p.addAxiom(m1)\n",
    "p.addAxiom(m257)\n",
    "\n",
    "id = Variable(\"Id\")\n",
    "hub = Variable(\"Hub\")\n",
    "a = Anonymous()\n",
    "\n",
    "q = Query(p, Structure(\"marriage\", [id, hub, a, a, a]))\n",
    "while q.canFindNextProof():\n",
    "    print(f\"Id: {id}, Husband: {hub}\")"
   ]
  },
  {
   "cell_type": "markdown",
   "metadata": {},
   "source": [
    "### Write関数\n",
    "Gatewayのサブクラスとして、引き数の値を標準出力書き出す関数Writeを追加しました。"
   ]
  },
  {
   "cell_type": "code",
   "execution_count": 17,
   "metadata": {},
   "outputs": [
    {
     "name": "stdout",
     "output_type": "stream",
     "text": [
      "和=3\n"
     ]
    },
    {
     "data": {
      "text/plain": [
       "True"
      ]
     },
     "execution_count": 17,
     "metadata": {},
     "output_type": "execute_result"
    }
   ],
   "source": [
    "v = Variable(\"V\")\n",
    "v.unify(Fact(2))\n",
    "e = Write(\"和=\", ArithmeticOperator(\"+\", Fact(1), v))\n",
    "e.canFindNextProof()"
   ]
  },
  {
   "cell_type": "markdown",
   "metadata": {},
   "source": [
    "### リスト\n",
    "PrologのリストLispの（Car, Cdr)の要なツリー構造で実装されています。\n"
   ]
  },
  {
   "cell_type": "code",
   "execution_count": 18,
   "metadata": {},
   "outputs": [
    {
     "name": "stdout",
     "output_type": "stream",
     "text": [
      "A list of three snakes: [cobra, garter, python]\n",
      "\n",
      "... unifies whth: [A, B, C]\n",
      "\n",
      "... giving: \n",
      "A: cobra\n",
      "B: garter\n",
      "C: python\n",
      "\n",
      "... and unifies with: [Head|Tail]\n",
      "... giving: \n",
      "Head: cobra \n",
      "Tail: [garter, python]\n",
      "\n"
     ]
    }
   ],
   "source": [
    "snakes = Structure.list([\"cobra\", \"garter\", \"python\"])\n",
    "print(f\"A list of three snakes: {snakes}\")\n",
    "\n",
    "a = Variable(\"A\")\n",
    "b = Variable(\"B\")\n",
    "c = Variable(\"C\")\n",
    "abc = Structure.list([a, b, c])\n",
    "print(f\"\\n... unifies whth: {abc}\")\n",
    "\n",
    "abc.unify(snakes)\n",
    "print(\"\\n... giving: \\n\" +\n",
    "      f\"A: {a}\\n\" +\n",
    "      f\"B: {b}\\n\" +\n",
    "      f\"C: {c}\\n\")\n",
    "\n",
    "head = Variable(\"Head\")\n",
    "tail = Variable(\"Tail\")\n",
    "ht = Structure.list([head], tail)\n",
    "print(f\"... and unifies with: {ht}\")\n",
    "\n",
    "ht.unify(snakes)\n",
    "print(f\"... giving: \\n\" + \n",
    "      f\"Head: {head} \\n\" +\n",
    "      f\"Tail: {tail}\\n\")"
   ]
  },
  {
   "cell_type": "markdown",
   "metadata": {},
   "source": [
    "## 伝染病\n",
    "この例題は、推論エンジンの特徴をうまく使った例です。\n",
    "\n",
    "- 感染した人物をキスを伝染が発症します。\n",
    "- キスは双方向に成立するため、新たにkissedという事実を使っています。\n",
    "\n",
    "ルール内の変数定義は、各Structureの中で毎回定義します。Ruleのスコープ内で変数名の重複チェックが行われるため、Rule内では一意の変数を参照します。"
   ]
  },
  {
   "cell_type": "code",
   "execution_count": 19,
   "metadata": {},
   "outputs": [
    {
     "name": "stdout",
     "output_type": "stream",
     "text": [
      "定理:\n",
      "kiss(jill, james, 0321);\n",
      "kiss(julian, jill, 0405);\n",
      "kiss(jill, jasper, 0412);\n",
      "kiss(james, jenni, 0420);\n",
      "kiss(julian, judy, 0508);\n",
      "kiss(jed, judy, 0614);\n",
      "infected(julian, 0307);\n",
      "kissed(Student1, Student2, Date) :- kiss(Student1, Student2, Date);\n",
      "kissed(Student1, Student2, Date) :- kiss(Student2, Student1, Date);\n",
      "exposed(Student, Date) :- infected(Student, Date1), >(Date, Date1);\n",
      "exposed(Student2, Date2) :- kissed(Student2, Student1, Date1), >(Date2, Date1), exposed(Student1, Date1);\n",
      "出力結果:\n",
      "Student = julian\n",
      "Student = jed\n",
      "Student = jill\n",
      "Student = jasper\n",
      "Student = judy\n"
     ]
    }
   ],
   "source": [
    "from engine import *\n",
    "\n",
    "facts = [\n",
    "    Fact(\"kiss\", [\"jill\", \"james\", \"0321\"]),\n",
    "    Fact(\"kiss\", [\"julian\", \"jill\", \"0405\"]),\n",
    "    Fact(\"kiss\", [\"jill\", \"jasper\", \"0412\"]),\n",
    "    Fact(\"kiss\", [\"james\", \"jenni\", \"0420\"]),\n",
    "    Fact(\"kiss\", [\"julian\", \"judy\", \"0508\"]),\n",
    "    Fact(\"kiss\", [\"jed\", \"judy\", \"0614\"]),\n",
    "]\n",
    "\n",
    "p = Program(facts)\n",
    "\n",
    "infected = Fact(\"infected\", [\"julian\", \"0307\"])\n",
    "p.addAxiom(infected)\n",
    "\n",
    "p.addAxiom(Rule([\n",
    "    Structure(\"kissed\", [Variable(\"Student1\"), Variable(\"Student2\"), Variable(\"Date\")]), # :-\n",
    "        Structure(\"kiss\", [Variable(\"Student1\"), Variable(\"Student2\"), Variable(\"Date\")])\n",
    "]))\n",
    "\n",
    "p.addAxiom(Rule([\n",
    "    Structure(\"kissed\", [Variable(\"Student1\"), Variable(\"Student2\"), Variable(\"Date\")]), # :-\n",
    "        Structure(\"kiss\", [Variable(\"Student2\"), Variable(\"Student1\"), Variable(\"Date\")])\n",
    "]))\n",
    "\n",
    "p.addAxiom(Rule([\n",
    "    Structure(\"exposed\", [Variable(\"Student\"), Variable(\"Date\")]), # :-\n",
    "        Structure(\"infected\", [Variable(\"Student\"), Variable(\"Date1\")]),\n",
    "        Comparison(\">\", Variable(\"Date\"), Variable(\"Date1\"))\n",
    "]))\n",
    "\n",
    "p.addAxiom(Rule([\n",
    "    Structure(\"exposed\", [Variable(\"Student2\"), Variable(\"Date2\")]), # :-\n",
    "        Structure(\"kissed\", [Variable(\"Student2\"), Variable(\"Student1\"), Variable(\"Date1\")]),\n",
    "        Comparison(\">\", Variable(\"Date2\"), Variable(\"Date1\")),\n",
    "        Structure(\"exposed\", [Variable(\"Student1\"), Variable(\"Date1\")])\n",
    "]))\n",
    "\n",
    "# 定理の出力\n",
    "print(\"定理:\")\n",
    "print(p)\n",
    "\n",
    "# この変数名は、上記変数と被らないようにする必要がある\n",
    "x = Variable(\"X\")\n",
    "\n",
    "print(\"出力結果:\")\n",
    "q = Query(p, Structure(\"exposed\", [x, Atom(\"0615\")]))\n",
    "while q.canFindNextProof():\n",
    "    print(f\"Student = {x}\")"
   ]
  },
  {
   "cell_type": "markdown",
   "metadata": {},
   "source": [
    "## ループ処理\n",
    "次にループ処理の例題です。\n",
    "Writeを追加し、途中の値を出力できるようにしました。"
   ]
  },
  {
   "cell_type": "code",
   "execution_count": 20,
   "metadata": {},
   "outputs": [
    {
     "name": "stdout",
     "output_type": "stream",
     "text": [
      "定理:\n",
      "for(X, X, Upper) :- <=(X, Upper);\n",
      "for(X, Lower, Upper) :- <(Lower, Upper), #(LowerPlusOne, +(Lower, 1)), for(X, LowerPlusOne, Upper);\n",
      "出力結果:\n",
      "i = 1\n",
      "i = 2\n",
      "i = 3\n",
      "i = 4\n",
      "i = 5\n",
      "i = 6\n",
      "i = 7\n",
      "i = 8\n",
      "i = 9\n",
      "i = 10\n",
      "i = 11\n",
      "i = 12\n",
      "i = 13\n",
      "i = 14\n",
      "i = 15\n",
      "i = 16\n",
      "i = 17\n",
      "i = 18\n",
      "i = 19\n",
      "i = 20\n"
     ]
    }
   ],
   "source": [
    "from engine import *\n",
    "\n",
    "p = Program()\n",
    "p.addAxiom(Rule([\n",
    "    Structure(\"for\", [Variable(\"X\"), Variable(\"X\"), Variable(\"Upper\")]), # :-\n",
    "        # 以下の比較で変数Xが単一化される\n",
    "        Comparison(\"<=\", Variable(\"X\"), Variable(\"Upper\")),\n",
    "        #Write(Variable(\"X\"))\n",
    "]))\n",
    "p.addAxiom(Rule([\n",
    "    Structure(\"for\", [Variable(\"X\"), Variable(\"Lower\"), Variable(\"Upper\")]), # :-\n",
    "        Comparison(\"<\", Variable(\"Lower\"), Variable(\"Upper\")),        \n",
    "        Evaluation(Variable(\"LowerPlusOne\"), ArithmeticOperator(\"+\", Variable(\"Lower\"), Atom(1))),   \n",
    "        Structure(\"for\", [Variable(\"X\"), Variable(\"LowerPlusOne\"), Variable(\"Upper\")])\n",
    "]))\n",
    "\n",
    "# 定理の出力\n",
    "print(\"定理:\")\n",
    "print(p)\n",
    "\n",
    "i = Variable(\"i\")\n",
    "\n",
    "print(\"出力結果:\")\n",
    "q = Query(p, Structure(\"for\", [i, Atom(1), Atom(20)]))\n",
    "while q.canFindNextProof():\n",
    "    print(q.variables())"
   ]
  },
  {
   "cell_type": "markdown",
   "metadata": {},
   "source": [
    "## ハノイの塔の例題\n",
    "リングを移動する途中の様子を表すと以下のようになります。\n",
    "1. n-1枚をAからBに移す\n",
    "1. n枚目をAからCに移す\n",
    "1. n-1枚をBからCに移す\n",
    "\n",
    "<img src=\"images/hanoi.png\">\n",
    "\n",
    "これを推論エンジンで表現すると以下の様になります。"
   ]
  },
  {
   "cell_type": "code",
   "execution_count": 21,
   "metadata": {},
   "outputs": [
    {
     "name": "stdout",
     "output_type": "stream",
     "text": [
      "定理:\n",
      "hanoi(1, From, To, Via) :- move(1, From, To);\n",
      "hanoi(N, From, To, Via) :- >(N, 1), #(N1, -(N, 1)), hanoi(N1, From, Via, To), move(N, From, To), hanoi(N1, Via, To, From);\n",
      "move(N, From, To) :- write(Move, N, \": \", \"from \", From, \" to \", To);\n",
      "出力結果:\n",
      "Move1: from A to B\n",
      "Move2: from A to C\n",
      "Move1: from B to C\n",
      "Move3: from A to B\n",
      "Move1: from C to A\n",
      "Move2: from C to B\n",
      "Move1: from A to B\n",
      "\n"
     ]
    }
   ],
   "source": [
    "from engine import *\n",
    "\n",
    "p = Program()\n",
    "p.addAxiom(Rule([\n",
    "    Structure(\"hanoi\", [Atom(1), Variable(\"From\"), Variable(\"To\"), Variable(\"Via\")]), # :-        \n",
    "        Structure(\"move\", [Atom(1), Variable(\"From\"), Variable(\"To\")])\n",
    "]))\n",
    "p.addAxiom(Rule([\n",
    "    Structure(\"hanoi\", [Variable(\"N\"), Variable(\"From\"), Variable(\"To\"), Variable(\"Via\")]), # :-      \n",
    "        Comparison(\">\", Variable(\"N\"), Atom(1)), \n",
    "        Evaluation(Variable(\"N1\"), ArithmeticOperator(\"-\", Variable(\"N\"), Atom(1))),   \n",
    "        Structure(\"hanoi\", [Variable(\"N1\"), Variable(\"From\"), Variable(\"Via\"), Variable(\"To\")]),\n",
    "        Structure(\"move\", [Variable(\"N\"), Variable(\"From\"), Variable(\"To\")]),\n",
    "        Structure(\"hanoi\", [Variable(\"N1\"), Variable(\"Via\"), Variable(\"To\"), Variable(\"From\")])\n",
    "]))\n",
    "p.addAxiom(Rule([\n",
    "    Structure(\"move\", [Variable(\"N\"), Variable(\"From\"), Variable(\"To\")]),   \n",
    "        Write(\"Move\", Variable(\"N\"), \": \", \"from \", Variable(\"From\"), \" to \", Variable(\"To\"))\n",
    "]))\n",
    "\n",
    "# 定理の出力\n",
    "print(\"定理:\")\n",
    "print(p)\n",
    "\n",
    "print(\"出力結果:\")\n",
    "q = Query(p, Structure(\"hanoi\", [Atom(3), Atom(\"A\"), Atom(\"B\"), Atom(\"C\")]))\n",
    "while q.canFindNextProof():\n",
    "    print(q.variables())"
   ]
  },
  {
   "cell_type": "code",
   "execution_count": null,
   "metadata": {},
   "outputs": [],
   "source": []
  }
 ],
 "metadata": {
  "kernelspec": {
   "display_name": "Python 3",
   "language": "python",
   "name": "python3"
  },
  "language_info": {
   "codemirror_mode": {
    "name": "ipython",
    "version": 3
   },
   "file_extension": ".py",
   "mimetype": "text/x-python",
   "name": "python",
   "nbconvert_exporter": "python",
   "pygments_lexer": "ipython3",
   "version": "3.12.7"
  }
 },
 "nbformat": 4,
 "nbformat_minor": 2
}
