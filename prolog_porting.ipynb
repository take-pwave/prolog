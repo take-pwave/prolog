{
 "cells": [
  {
   "cell_type": "markdown",
   "metadata": {},
   "source": [
    "## Prologエンジンのpythonへの移植\n",
    "Steven John Metsker著「<a href=\"https://www.amazon.com/Building-Parsers-Java%C2%BF-Steven-Metsker/dp/0201719622\">JAVAによるサーバ構築技法（Building Parsers With Java）</a>」に付属している推論エンジンとパーサをpythonに移植しました。\n",
    "同ソースコードは、以下のURLで公開されています。\n",
    "- https://github.com/sujitpal/bpwj\n",
    "\n",
    "CDROMのreadme.txtによるとコードは自由に使ってよいと言うことでこれをベースにpythonにエンジンを移植していきます。\n",
    "```\n",
    "Copyright\n",
    "---------\n",
    "The code on the CD is free. It is copyrighted, so you may not claim that \n",
    "you wrote the code. Otherwise you may use the code as you wish.\n",
    "```\n",
    "\n",
    "エンジンのポーティングは、「JAVAによるサーバ構築技法」の12章をベースに行いました。\n",
    "この章の例題を移植したソースに適応して、動作を確認しながらポーティング作業を進めました。"
   ]
  },
  {
   "cell_type": "markdown",
   "metadata": {},
   "source": [
    "### 移植のポイント\n",
    "エンジンのメイン機能は、単一化（Unification）とバックトラック処理にあります。\n",
    "\n",
    "論理エンジンは、Structureクラスをベースとして作られています。\n",
    "構造（Structure）は、関数子（functor）と項（terms）の配列で構成されています。\n",
    "\n",
    "項を持たず、関数子だけをもつ構造をアトム（Atom）と呼びます。\n",
    "\n",
    "エンジンの最終的なポート結果は、engine.pyにあります。"
   ]
  },
  {
   "cell_type": "markdown",
   "metadata": {},
   "source": [
    "## Unificationの移植\n",
    "Javaのソースは、クラス毎に定義され、相互参照をしているため、Pythonで一つのファイルで定義するには、そのクラスがグローバルに定義されているものとしてコーディングする必要があります。\n",
    "\n",
    "最初に必要なライブラリをインポートします。\n",
    "\n",
    "```python\n",
    "import copy\n",
    "from collections import defaultdict\n",
    "import time\n",
    "```"
   ]
  },
  {
   "cell_type": "markdown",
   "metadata": {},
   "source": [
    "次にUnificationを移植します。bpwj/src/main/java/sjm/engine/にエンジン周りのJavaクラスが定義されています。\n",
    "\n",
    "Unification.javaをPythonに移植します。\n",
    "Javaソースのvectorをself._variablesとして実装しました。\n",
    "\n",
    "Unificationクラスは、変数（Variable）の単一化の結果を_variablesに保持します。\n"
   ]
  },
  {
   "cell_type": "markdown",
   "metadata": {},
   "source": [
    "Unificationクラスの移植では、クラス変数emptyの初期化をクラスインスタンス生成メソッド__new__の中で実装することです。\n",
    "\n",
    "```python\n",
    "class Unification():\n",
    "    empty = None\n",
    "    def __new__(cls, *args, **kargs):\n",
    "\n",
    "        if cls.empty == None:\n",
    "            cls.empty = super(Unification, cls).__new__(cls)\n",
    "            cls.empty._variables = []\n",
    "        return super(Unification, cls).__new__(cls)\n",
    "\n",
    "    def __init__(self, v = None):\n",
    "        self._variables = []\n",
    "        if v != None:\n",
    "            self.addVariable(v)\n",
    "```"
   ]
  },
  {
   "cell_type": "markdown",
   "metadata": {},
   "source": [
    "\n",
    "## Structureの移植\n",
    "Sturctureクラスのコンストラクターは、以下のようになります。\n",
    "\n",
    "```python\n",
    "class Structure:\n",
    "    # コンストラクター\n",
    "    def __init__(self, functor, terms = []):\n",
    "        self.functor = functor\n",
    "        self.terms = terms\n",
    "        if terms != None and len(terms) > 0:\n",
    "            self.terms = terms\n",
    "```\n",
    "\n",
    "これをjavaの定義と比較すると、javaでは複数のコンストラクターが定義できるのに対して、pythonでは__init__の１つしか定義できません。この点がpythoへの移植の厄介なところでした。\n",
    "```java\n",
    "public class Structure implements Term {\n",
    "\tprotected Object functor;\n",
    "\tprotected Term[] terms;\n",
    "\n",
    "    public Structure(Object functor) {\n",
    "        this(functor, new Term[0]);\n",
    "    }\n",
    "    public Structure(Object functor, Term[] terms) {\n",
    "        this.functor = functor;\n",
    "        this.terms = terms;\n",
    "    }    \n",
    "}\n",
    "```\n"
   ]
  },
  {
   "cell_type": "markdown",
   "metadata": {},
   "source": [
    "engine.pyからStructureクラスを抜粋します（コメントを除く）。\n",
    "\n",
    "ここで注目して欲しいのは、以下の３つです。\n",
    "- コンストラクター（__init__）\n",
    "- 単一化（unify）\n",
    "- 同一判定（__eq__）\n",
    "\n",
    "それと__str__は、インスタンスの表示の時に役に立つので、最初に実装するのがポイントです。また、一度にすべてのメソッドを実装するのではなく、最低限のメソッドから実装し、動作を確認しながら薦めると良いでしょう。"
   ]
  },
  {
   "cell_type": "markdown",
   "metadata": {},
   "source": [
    "```python\n",
    "class Structure:\n",
    "    # 以下抜粋\n",
    "    # コンストラクター\n",
    "    def __init__(self, functor, terms = []):      \n",
    "        self.functor = functor\n",
    "        self.terms = terms\n",
    "        if terms != None and len(terms) > 0:\n",
    "            self.terms = terms\n",
    "    # 単一化\n",
    "    def unify(self, s):\n",
    "        if isinstance(s, Structure):\n",
    "            if not self.functorAndArityEquals(s):\n",
    "                return None\n",
    "            u = Unification()\n",
    "            others = s.terms\n",
    "            for i in range(len(self.terms)):\n",
    "                subUnification = self.terms[i].unify(others[i])            \n",
    "                if subUnification == None:\n",
    "                    u.unbind()\n",
    "                    return None\n",
    "                u.append(subUnification)\n",
    "            return u\n",
    "        elif isinstance(s, Variable):\n",
    "            v = s\n",
    "            return v.unify(self)\n",
    "        else: # Term\n",
    "            t = s\n",
    "            return t.unify(self)\n",
    "    # 同一判定\n",
    "    def __eq__(self, o):       \n",
    "        if type(self) != type(o):\n",
    "            return False\n",
    "        s = o\n",
    "        if not self.functorAndArityEquals(s):\n",
    "            return False\n",
    "        for i in range(self.arity()):\n",
    "            if not self.terms[i].__eq__(s.terms[i]):\n",
    "                return False\n",
    "        return True\n",
    "```"
   ]
  },
  {
   "cell_type": "markdown",
   "metadata": {},
   "source": [
    "### 動作確認\n",
    "「JAVAによるサーバ構築技法」のすぐれたところは、クラスの定義と動作確認が実装されていることです。\n",
    "- src/main/java/sjm/examples/に動作確認用のクラスが定義されています。\n",
    "\n",
    "ShowStructure.javaをPythonに移植して動作を確認します。\n",
    "\n",
    "Structureを使ったAtomの例として、denver（デンバー）を定義すると以下のようになります。"
   ]
  },
  {
   "cell_type": "code",
   "execution_count": 12,
   "metadata": {},
   "outputs": [
    {
     "name": "stdout",
     "output_type": "stream",
     "text": [
      "denver\n"
     ]
    }
   ],
   "source": [
    "from engine import *\n",
    "\n",
    "denver = Structure(\"denver\")\n",
    "print(denver)"
   ]
  },
  {
   "cell_type": "markdown",
   "metadata": {},
   "source": [
    "構造を使ってcityの地名（Name）と標高（altitude）を定義すると、以下のようになります。"
   ]
  },
  {
   "cell_type": "code",
   "execution_count": 13,
   "metadata": {},
   "outputs": [
    {
     "name": "stdout",
     "output_type": "stream",
     "text": [
      "city(denver, 5280)\n"
     ]
    }
   ],
   "source": [
    "denver = Structure(\"denver\")\n",
    "alititude = Structure(5280)\n",
    "city = Structure(\"city\", [denver, alititude])\n",
    "print(city)"
   ]
  },
  {
   "cell_type": "markdown",
   "metadata": {},
   "source": [
    "## 変数(Variable)の移植\n",
    "\n",
    "次に変数（Variable）を移植します。\n",
    "\n",
    "ここでのポイントは以下のメソッドです。\n",
    "- コンストラクター（__init__）\n",
    "- 単一化（unify）\n",
    "- 単一化の解除（unbind）\n",
    "\n"
   ]
  },
  {
   "cell_type": "markdown",
   "metadata": {},
   "source": [
    "```python\n",
    "class Variable: \n",
    "    # 抜粋\n",
    "    def __init__(self, name):    \n",
    "        self.name = name\n",
    "        self.instantiation = None\n",
    "        self.id = f\"{name}_{str(time.time())}\"\n",
    "\n",
    "    def unify(self, s):     \n",
    "        structureCls = globals()['Structure']\n",
    "        if isinstance(s, Variable):\n",
    "            v = s\n",
    "            if self is v:\n",
    "                return Unification()\n",
    "            elif self.instantiation != None:\n",
    "                return self.instantiation.unify(v)\n",
    "            elif v.instantiation != None:\n",
    "                return v.instantiation.unify(self)\n",
    "            self.instantiation = v\n",
    "            return Unification(self)\n",
    "        elif isinstance(s, structureCls):\n",
    "            if self.instantiation != None:\n",
    "                return self.instantiation.unify(s)\n",
    "            self.instantiation = s\n",
    "            return Unification(self)\n",
    "        else: # Term\n",
    "            t = s\n",
    "            return t.unify(self)\n",
    "        \n",
    "    def __eq__(self, o):      \n",
    "        if not isinstance(o, Variable):\n",
    "            return False\n",
    "        v = o\n",
    "        if self.name != v.name:\n",
    "            return False\n",
    "        if self.instantiation == None:\n",
    "            return v.instantiation == None\n",
    "        return self.instantiation.__eq__(v.instantiation)\n",
    "```"
   ]
  },
  {
   "cell_type": "markdown",
   "metadata": {},
   "source": [
    "### 単一化（Unification）\n",
    "変数（Variable）の単一化の結果を保持するクラスがUnificationです。\n",
    "\n",
    "JAVAによるサーバ構築技法から単一化の方法をまとめると以下の通りです。\n",
    "- ２つの構造が単一化できるためには、両者が同じ関数子を持ち、項の数が等しく、\n",
    "対応する項同士が単一かできる必要がある\n",
    "- インスタンス化されていない変数を特定の構造に単一化すると、その構造が変数の値になる\n",
    "- インスタンス化された変数は、インスタンス値に単一化を依頼することで、自身の単一化を実行する\n",
    "\n",
    "先に作成した構造体cityと変数name, altの単一化をすると、各変数のinstance属性に構造体denverとalititudeがセットされていることを確かめてみましょう(ShowStructureUnification.javaの移植)。"
   ]
  },
  {
   "cell_type": "code",
   "execution_count": 14,
   "metadata": {},
   "outputs": [
    {
     "name": "stdout",
     "output_type": "stream",
     "text": [
      "city(Name, Altitude)\n"
     ]
    }
   ],
   "source": [
    "from engine import *\n",
    "\n",
    "# Variableの確認\n",
    "name = Variable(\"Name\")\n",
    "alt = Variable(\"Altitude\")\n",
    "vCity = Structure(\"city\", [name, alt])\n",
    "print(vCity)"
   ]
  },
  {
   "cell_type": "markdown",
   "metadata": {},
   "source": [
    "unifyメソッドで変数name, altにvCityの値（denver, 5280）が単一化されます。"
   ]
  },
  {
   "cell_type": "code",
   "execution_count": 15,
   "metadata": {},
   "outputs": [
    {
     "name": "stdout",
     "output_type": "stream",
     "text": [
      "name=denver, alt=5280\n"
     ]
    }
   ],
   "source": [
    "vCity.unify(city)\n",
    "print(f\"name={str(name)}, alt={str(alt)}\")"
   ]
  },
  {
   "cell_type": "code",
   "execution_count": 16,
   "metadata": {},
   "outputs": [
    {
     "name": "stdout",
     "output_type": "stream",
     "text": [
      "denver\n",
      "5280\n"
     ]
    }
   ],
   "source": [
    "# 以下のコマンドをデバッガで実行すると、変数name, altに\n",
    "# セットされているinstatiationに構造cityのdenver, alititude\n",
    "# であることが確認できます。\n",
    "print(name.instantiation)\n",
    "print(alt.instantiation)"
   ]
  },
  {
   "cell_type": "markdown",
   "metadata": {},
   "source": [
    "デバッガ画面で、name.instantiationに構造(0x110e51930)がセットされ、それが構造(denver)であり、そのfunctorの値がdenverであることが確認できます。\n",
    "\n",
    "<img src=\"images/unification.png\">"
   ]
  },
  {
   "cell_type": "markdown",
   "metadata": {},
   "source": [
    "## Factの移植\n",
    "事実（Fact）は、変数を含まない構造（Struct）と説明されています。\n",
    "\n",
    "Factには、様々なコンストラクターが用意されており、事実の記述が簡単にできるように配慮されています。\n",
    "\n",
    "Javaのコンストラクターには、以下のメソッドが提供されています。\n",
    "\n",
    "- Fact(functor: Object)\n",
    "- Fact(functor: Object, term0: Object)\n",
    "- Fact(functor: Object, term0: Object, term1: Object)\n",
    "- Fact(functor: Object, terms[]: Object)\n",
    "- Fact(functor: Object, terms[]: Fact)\n",
    "\n",
    "これをpythonのコンストラクター（__init__）で以下のように定義しています。\n",
    "\n",
    "```python\n",
    "class Fact(Structure):    \n",
    "    def __init__(self, functor, *args):     \n",
    "        if len(args) == 0:\n",
    "            super().__init__(functor)\n",
    "        elif len(args) == 1:            \n",
    "            if isinstance(args[0], list):\n",
    "                first = args[0]\n",
    "                if len(first) > 0 and isinstance(first[0], Fact):\n",
    "                    super().__init__(functor, first)\n",
    "                else:\n",
    "                    atoms = [Atom(o) for o in first]\n",
    "                    super().__init__(functor, atoms)\n",
    "            elif isinstance(args[0], Fact):\n",
    "                super().__init__(functor, [args[0]])\n",
    "            else:\n",
    "                super().__init__(functor, [Atom(args[0])])\n",
    "        elif len(args) == 2:\n",
    "            o1 = args[0]\n",
    "            o2 = args[1]\n",
    "            if isinstance(o1, Atom):\n",
    "                super().__init__(functor, [o1, o2])\n",
    "            else:\n",
    "                super().__init__(functor, [Atom(o1), Atom(o2)])\n",
    "\n",
    "```"
   ]
  },
  {
   "cell_type": "markdown",
   "metadata": {},
   "source": [
    "### Factの動作確認\n",
    "Factの動作確認用にShowFactで定義されている処理をPythonで実行してみます。\n",
    "\n",
    "多様なコンストラクターの例となっています。"
   ]
  },
  {
   "cell_type": "code",
   "execution_count": 2,
   "metadata": {},
   "outputs": [
    {
     "name": "stdout",
     "output_type": "stream",
     "text": [
      "city(denver, 5280)\n",
      "city(jacksonville, 8)\n"
     ]
    }
   ],
   "source": [
    "from engine import *\n",
    "\n",
    "d = Fact(\"city\", [Fact(\"denver\"), Fact(5280)])\n",
    "j = Fact(\"city\", \"jacksonville\", 8)\n",
    "\n",
    "print(d)\n",
    "print(j)"
   ]
  },
  {
   "cell_type": "markdown",
   "metadata": {},
   "source": [
    "## ProgramとQueryの移植\n"
   ]
  },
  {
   "cell_type": "markdown",
   "metadata": {},
   "source": [
    "# prologの例題\n",
    "Logikusパーサを使って「Prologの技芸（art of prolog）」の例題を試してみます。\n",
    "\n",
    "ちなみにPrologの技芸は私の前職の「株式会社 構造計画研究所」が発行した書籍です。\n",
    "\n"
   ]
  },
  {
   "cell_type": "code",
   "execution_count": 3,
   "metadata": {},
   "outputs": [],
   "source": [
    "from parser import *"
   ]
  },
  {
   "cell_type": "markdown",
   "metadata": {},
   "source": [
    "## ３章　再帰プログラミング"
   ]
  },
  {
   "cell_type": "markdown",
   "metadata": {},
   "source": [
    "### 自然数"
   ]
  },
  {
   "cell_type": "markdown",
   "metadata": {},
   "source": [
    "### 自然数の計算\n",
    "自然数の「和」をprologで定義します。\n",
    "\n",
    "自然数の表現にはs(0)が0に１足したことを表すs表現を使用します。"
   ]
  },
  {
   "cell_type": "code",
   "execution_count": 4,
   "metadata": {},
   "outputs": [
    {
     "name": "stdout",
     "output_type": "stream",
     "text": [
      "Y = s(s(s(s(s(0)))))\n",
      "Yes\n"
     ]
    }
   ],
   "source": [
    "s = \"\"\"\n",
    "natural_number(0);\n",
    "natural_number(s(X)) :- natural_number(X);\n",
    "plus(0, X, X) :- natural_number(X);\n",
    "plus(s(X), Y, s(Z)) :- plus(X, Y, Z);\n",
    "\"\"\"\n",
    "p = LogikusFacade.program(s)\n",
    "LogikusFacade.query('plus(s(s(s(0))), s(s(0)), Y);', p)"
   ]
  },
  {
   "cell_type": "markdown",
   "metadata": {},
   "source": [
    "この結果は、s(s(s(0)))=3, s(s(0))=2なので、s(s(s(s(s(0)))))=5と読みます。"
   ]
  },
  {
   "cell_type": "markdown",
   "metadata": {},
   "source": [
    "同様に「積」、「べき乗」を追加します。"
   ]
  },
  {
   "cell_type": "code",
   "execution_count": 5,
   "metadata": {},
   "outputs": [
    {
     "name": "stdout",
     "output_type": "stream",
     "text": [
      "Yq = s(s(s(s(s(s(s(s(0))))))))\n",
      "Yes\n"
     ]
    }
   ],
   "source": [
    "s = \"\"\"\n",
    "natural_number(0);\n",
    "natural_number(s(X)) :- natural_number(X);\n",
    "plus(0, X, X) :- natural_number(X);\n",
    "plus(s(X), Y, s(Z)) :- plus(X, Y, Z);\n",
    "times(0, X, 0) :- natural_number(X);\n",
    "times(s(X), Y, Z) :- times(X, Y, XY), plus(XY, Y, Z);\n",
    "exp(s(N), 0, 0);\n",
    "exp(0, s(X), s(0));\n",
    "exp(s(N), X, Y) :- exp(N, X, Z), times(Z, X, Y);\n",
    "\"\"\"\n",
    "Program.debug = False\n",
    "p = LogikusFacade.program(s)\n",
    "LogikusFacade.query('exp(s(s(s(0))), s(s(0)), Yq);', p)"
   ]
  },
  {
   "cell_type": "code",
   "execution_count": 6,
   "metadata": {},
   "outputs": [
    {
     "name": "stdout",
     "output_type": "stream",
     "text": [
      "Vs = [2, -2, 0, 4, -6]\n",
      "Yes\n"
     ]
    }
   ],
   "source": [
    "s = \"\"\"\n",
    "imul(_, [], []);\n",
    "imul(C, [X|Xs], [Z|Zs]) :- #(Z, C * X), imul(C, Xs, Zs);\n",
    "\"\"\"\n",
    "p = LogikusFacade.program(s)\n",
    "LogikusFacade.query('imul(2, [1,-1,0,2,-3], Vs);', p)"
   ]
  },
  {
   "cell_type": "code",
   "execution_count": 7,
   "metadata": {},
   "outputs": [
    {
     "name": "stdout",
     "output_type": "stream",
     "text": [
      "Vs = [2, 0, 6, -4]\n",
      "Yes\n"
     ]
    }
   ],
   "source": [
    "s = \"\"\"\n",
    "imul(_, [], []);\n",
    "imul(C, [X|Xs], [Z|Zs]) :- #(Z, C * X), imul(C, Xs, Zs);\n",
    "\n",
    "add([], Ys, Ys);\n",
    "add([X|Xs], [], [X|Xs]);\n",
    "add([X|Xs], [Y|Ys], [Z|Zs]) :-\n",
    "\t#(Z, X + Y),\n",
    "\tadd(Xs, Ys, Zs);\n",
    "\"\"\"\n",
    "p = LogikusFacade.program(s)\n",
    "LogikusFacade.query('add([1,2,3], [1,-2,3,-4], Vs)', p)"
   ]
  },
  {
   "cell_type": "code",
   "execution_count": 8,
   "metadata": {},
   "outputs": [
    {
     "name": "stdout",
     "output_type": "stream",
     "text": [
      "Vs = [1, 0, 2, 0, 9]\n",
      "Yes\n"
     ]
    }
   ],
   "source": [
    "s = \"\"\"\n",
    "imul(_, [], []);\n",
    "imul(C, [X|Xs], [Z|Zs]) :- #(Z, C * X), imul(C, Xs, Zs);\n",
    "\n",
    "add([], Ys, Ys);\n",
    "add([X|Xs], [], [X|Xs]);\n",
    "add([X|Xs], [Y|Ys], [Z|Zs]) :-\n",
    "\t#(Z, X + Y),\n",
    "\tadd(Xs, Ys, Zs);\n",
    "\n",
    "mul([], _, []);\n",
    "mul([X|Xs], Ys, Zs) :-\n",
    "\timul(X, Ys, Zs1),\n",
    "\tmul(Xs, Ys, Zs2),\n",
    "\tadd(Zs1, [0|Zs2], Zs);\n",
    "\"\"\"\n",
    "p = LogikusFacade.program(s)\n",
    "LogikusFacade.query('mul([1,2,3], [1,-2,3], Vs);', p)"
   ]
  },
  {
   "cell_type": "code",
   "execution_count": 9,
   "metadata": {},
   "outputs": [
    {
     "name": "stdout",
     "output_type": "stream",
     "text": [
      "append([], Z, Z);\n",
      "append([W|X1], Y, [W|Z1]) :- append(X1, Y, Z1);\n",
      "V = [1, 0]\n",
      "Yes\n"
     ]
    }
   ],
   "source": [
    "s = \"\"\"\n",
    "append([], Z, Z) ;\n",
    "append([W|X1], Y, [W|Z1]) :- append(X1, Y, Z1);\n",
    "\"\"\"\n",
    "p = LogikusFacade.program(s)\n",
    "print(p)\n",
    "LogikusFacade.query('append([1], [0], V);', p)\n"
   ]
  },
  {
   "cell_type": "markdown",
   "metadata": {},
   "source": [
    "### ハノイの塔の例題"
   ]
  },
  {
   "cell_type": "code",
   "execution_count": 10,
   "metadata": {},
   "outputs": [
    {
     "name": "stdout",
     "output_type": "stream",
     "text": [
      "append([], Ys, Ys);\n",
      "append([X|Xs], Ys, [X|Zs]) :- append(Xs, Ys, Zs);\n",
      "hanoi(0, A, B, C, []);\n",
      "hanoi(s(N), A, B, C, Moves) :- hanoi(N, A, C, B, Ms1), hanoi(N, C, B, A, Ms2), append(Ms1, [[A, to, B]|Ms2], Moves);\n",
      "Vs = [[A, to, B], [A, to, C], [B, to, C], [A, to, B], [C, to, A], [C, to, B], [A, to, B]]\n",
      "Yes\n"
     ]
    }
   ],
   "source": [
    "s = \"\"\"\n",
    "append([], Ys, Ys);\n",
    "append([X|Xs], Ys, [X|Zs]) :- append(Xs, Ys, Zs);\n",
    "\n",
    "// hanoi(s(0), A, B, C, [[A, to, B]]);\n",
    "hanoi(0, A, B, C, []);\n",
    "hanoi(s(N), A, B, C, Moves) :-\n",
    "\thanoi(N, A, C, B, Ms1),\n",
    "\thanoi(N, C, B, A, Ms2),\n",
    "\tappend(Ms1, [[A, to, B]|Ms2], Moves);\n",
    "\"\"\"\n",
    "p = LogikusFacade.program(s)\n",
    "print(p)\n",
    "LogikusFacade.query('hanoi(s(s(s(0))), \"A\", \"B\", \"C\", Vs);', p)\n"
   ]
  },
  {
   "cell_type": "code",
   "execution_count": 11,
   "metadata": {},
   "outputs": [
    {
     "name": "stdout",
     "output_type": "stream",
     "text": [
      "city(denver, 5280);\n",
      "city(jacksonville, 8);\n",
      "city(\"test hello\", 0);\n",
      "Name = denver, Heigh = 5280\n",
      "Name = jacksonville, Heigh = 8\n",
      "Name = \"test hello\", Heigh = 0\n",
      "Yes\n"
     ]
    }
   ],
   "source": [
    "s = \"\"\"\n",
    "city(denver, 5280);\n",
    "city(\"jacksonville\", 8);\n",
    "city(\"test hello\", 0);\n",
    "\"\"\"\n",
    "p = LogikusFacade.program(s)\n",
    "print(p)\n",
    "LogikusFacade.query('city(Name, Heigh);', p)"
   ]
  },
  {
   "cell_type": "markdown",
   "metadata": {},
   "source": [
    "## 日本語も使える"
   ]
  },
  {
   "cell_type": "code",
   "execution_count": 12,
   "metadata": {},
   "outputs": [
    {
     "name": "stdout",
     "output_type": "stream",
     "text": [
      "\"市\"(高岡, 100);\n",
      "\"市\"(富山, 20);\n",
      "Name = 高岡, Heigh = 100\n",
      "Name = 富山, Heigh = 20\n",
      "Yes\n"
     ]
    }
   ],
   "source": [
    "s = \"\"\"\n",
    "\"市\"(\"高岡\", 100);\n",
    "\"市\"(\"富山\", 20);\n",
    "\"\"\"\n",
    "p = LogikusFacade.program(s)\n",
    "print(p)\n",
    "LogikusFacade.query('\"市\"(Name, Heigh);', p)"
   ]
  },
  {
   "cell_type": "markdown",
   "metadata": {},
   "source": [
    "## デバッグトレース"
   ]
  },
  {
   "cell_type": "code",
   "execution_count": 13,
   "metadata": {},
   "outputs": [
    {
     "name": "stdout",
     "output_type": "stream",
     "text": [
      "append([X|Xs], Ys, [X|Zs]) :- append(Xs, Ys, Zs);\n",
      "append([], Ys, Ys);\n",
      "append(X, Y, [a, b, c])?\n",
      "\tappend([X|Xs], Ys, [X|Zs])\tTrue\tX = [a|Xs], Ys = Y, X = a, Zs = [b, c] => append(Xs, Y, [b, c])\n",
      "\tappend([X|Xs], Ys, [X|Zs])\tTrue\tXs = [b|Xs], Y = Ys, X = b, Zs = [c] => append(Xs, Ys, [c])\n",
      "\tappend([X|Xs], Ys, [X|Zs])\tTrue\tXs = [c|Xs], Ys = Ys, X = c, Zs = [] => append(Xs, Ys, [])\n",
      "\tappend([X|Xs], Ys, [X|Zs])\tFalse\n",
      "\tappend([], Ys, Ys)\tTrue\tXs = [], Ys = [], Ys = []\n",
      "\tReturn: Xs = [], Ys = [], Zs = []\n",
      "\tReturn: Xs = [c], Ys = [], Zs = [c]\n",
      "\tReturn: Xs = [b, c], Ys = [], Zs = [b, c]\n",
      "\tReturn: X = [a, b, c], Y = []\n",
      "X = [a, b, c], Y = []\n",
      "\tappend([], Ys, Ys)\tTrue\tXs = [], Ys = [c], Ys = [c]\n",
      "\tReturn: Xs = [], Ys = [c], Zs = [c]\n",
      "X = [a, b], Y = [c]\n",
      "\tappend([], Ys, Ys)\tTrue\tXs = [], Y = [b, c], Ys = [b, c]\n",
      "\tReturn: Xs = [], Ys = [b, c], Zs = [b, c]\n",
      "X = [a], Y = [b, c]\n",
      "\tappend([], Ys, Ys)\tTrue\tX = [], Ys = [a, b, c], Y = [a, b, c]\n",
      "\tReturn: X = [], Y = [a, b, c]\n",
      "X = [], Y = [a, b, c]\n",
      "Yes\n"
     ]
    }
   ],
   "source": [
    "\n",
    "Program.debug = True\n",
    "s = \"\"\"\n",
    "append([X|Xs], Ys, [X|Zs]) :- append(Xs, Ys, Zs);\n",
    "append([], Ys, Ys);\n",
    "\"\"\"\n",
    "p = LogikusFacade.program(s)\n",
    "print(p)\n",
    "LogikusFacade.query('append(X, Y, [a, b, c]);', p)\n",
    "\n",
    "Program.debug = False"
   ]
  },
  {
   "cell_type": "markdown",
   "metadata": {},
   "source": [
    "## 9章"
   ]
  },
  {
   "cell_type": "code",
   "execution_count": 14,
   "metadata": {},
   "outputs": [
    {
     "name": "stdout",
     "output_type": "stream",
     "text": [
      "isEmpty([]);\n",
      "\n",
      "Yes\n"
     ]
    }
   ],
   "source": [
    "s = \"\"\"\n",
    "isEmpty([]);\n",
    "\"\"\"\n",
    "p = LogikusFacade.program(s)\n",
    "print(p)\n",
    "LogikusFacade.query('not isEmpty([a]);', p)"
   ]
  },
  {
   "cell_type": "code",
   "execution_count": 15,
   "metadata": {},
   "outputs": [
    {
     "name": "stdout",
     "output_type": "stream",
     "text": [
      "append([X|Xs], Ys, [X|Zs]) :- append(Xs, Ys, Zs);\n",
      "append([], Ys, Ys);\n",
      "isEmpty([]);\n",
      "flatten([X|Xs], Ys3) :- flatten(X, Ys1), flatten(Xs, Ys2), append(Ys1, Ys2, Ys3);\n",
      "flatten(X, [X]) :- constant(X), not isEmpty(X);\n",
      "flatten([], []);\n",
      "No\n"
     ]
    }
   ],
   "source": [
    "s = \"\"\"\n",
    "append([X|Xs], Ys, [X|Zs]) :- append(Xs, Ys, Zs);\n",
    "append([], Ys, Ys);\n",
    "isEmpty([]);\n",
    "flatten([X|Xs], Ys3) :- flatten(X, Ys1), flatten(Xs, Ys2), append(Ys1, Ys2, Ys3);\n",
    "flatten(X, [X]) :- constant(X), not isEmpty(X);\n",
    "flatten([], []);\n",
    "\"\"\"\n",
    "# flatten(Xs, Ys) :- Ysは、Xsの要素のリストである。\n",
    "# constantが未定義なのでうまく動作しない\n",
    "p = LogikusFacade.program(s)\n",
    "print(p)\n",
    "LogikusFacade.query('flatten([[a], [b, [c, d], e]], Y);', p)"
   ]
  },
  {
   "cell_type": "code",
   "execution_count": null,
   "metadata": {},
   "outputs": [],
   "source": []
  }
 ],
 "metadata": {
  "kernelspec": {
   "display_name": "Python 3",
   "language": "python",
   "name": "python3"
  },
  "language_info": {
   "codemirror_mode": {
    "name": "ipython",
    "version": 3
   },
   "file_extension": ".py",
   "mimetype": "text/x-python",
   "name": "python",
   "nbconvert_exporter": "python",
   "pygments_lexer": "ipython3",
   "version": "3.12.7"
  }
 },
 "nbformat": 4,
 "nbformat_minor": 2
}
